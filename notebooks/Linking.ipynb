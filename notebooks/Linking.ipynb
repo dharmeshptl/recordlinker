{
 "cells": [
  {
   "cell_type": "code",
   "execution_count": 417,
   "metadata": {},
   "outputs": [],
   "source": [
    "import itertools\n",
    "import time\n",
    "\n",
    "import recordlinker\n",
    "from recordlinker.blocking import BinaryEncoder, Blocker, Comparer\n",
    "from recordlinker.metrics import normalized_l1\n",
    "\n",
    "import numpy as np\n",
    "import pandas as pd\n",
    "\n",
    "import sklearn\n",
    "from sklearn import metrics\n",
    "\n",
    "from pyjarowinkler import distance\n",
    "\n",
    "import multiprocessing as mp\n",
    "\n",
    "import matplotlib.pyplot as plt\n",
    "%matplotlib inline\n",
    "\n",
    "import warnings\n",
    "warnings.filterwarnings('ignore')"
   ]
  },
  {
   "cell_type": "code",
   "execution_count": 412,
   "metadata": {},
   "outputs": [],
   "source": [
    "%reload_ext autoreload\n",
    "%autoreload 2"
   ]
  },
  {
   "cell_type": "code",
   "execution_count": 5,
   "metadata": {},
   "outputs": [
    {
     "name": "stdout",
     "output_type": "stream",
     "text": [
      "Number of total matches: 4320\n",
      "Number of exact matches: 3240\n"
     ]
    }
   ],
   "source": [
    "iowa_matches = pd.read_csv(\n",
    "    '/Users/kailinlu/Desktop/QMSSWork/RecordLinking/recordlinker/recordlinker/data/iowa_matches.csv')\n",
    "iowa_matches.drop_duplicates(subset=['uid1915', 'hhid'], inplace=True)\n",
    "iowa_nonmatches = pd.read_csv(\n",
    "    '/Users/kailinlu/Desktop/QMSSWork/RecordLinking/recordlinker/recordlinker/data/iowa_nonmatches.csv')\n",
    "iowa_nonmatches.drop_duplicates(subset=['uid1915', 'hhid'], inplace=True)\n",
    "\n",
    "iowa_matches['match'] = 1\n",
    "iowa_nonmatches['match'] = 0\n",
    "\n",
    "iowa = pd.concat([iowa_matches, iowa_nonmatches])\n",
    "total_matches = len(iowa_matches['uid-hhid'])\n",
    "exact_matches = np.sum(iowa_matches['lname1915'] == iowa_matches['lname1940'])\n",
    "print('Number of total matches: {}'.format(total_matches))\n",
    "print('Number of exact matches: {}'.format(exact_matches))\n",
    "\n",
    "names_1915 = iowa[['lname1915', 'uid1915', 'yob1915', 'fname1915']]\n",
    "names_1915.drop_duplicates(subset=['uid1915'], inplace=True)\n",
    "names_1940 = iowa[['lname1940', 'hhid', 'yob1940', 'fname1940']]\n",
    "names_1940.drop_duplicates(subset=['hhid'], inplace=True)\n",
    "names_1915.reset_index(inplace=True)\n",
    "names_1940.reset_index(inplace=True)"
   ]
  },
  {
   "cell_type": "code",
   "execution_count": 97,
   "metadata": {
    "collapsed": true
   },
   "outputs": [],
   "source": [
    "# Get indices of matches \n",
    "iowa['indexA'] = iowa['uid1915'].apply(lambda x: names_1915[names_1915['uid1915']==x].index[0]) \n",
    "iowa['indexB'] = iowa['hhid'].apply(lambda x: names_1940[names_1940['hhid']==x].index[0]) "
   ]
  },
  {
   "cell_type": "code",
   "execution_count": 98,
   "metadata": {
    "collapsed": true
   },
   "outputs": [],
   "source": [
    "indexA = iowa[iowa['match']==1]['indexA']\n",
    "indexB = iowa[iowa['match']==1]['indexB']"
   ]
  },
  {
   "cell_type": "markdown",
   "metadata": {},
   "source": [
    "## Create comparison matrix"
   ]
  },
  {
   "cell_type": "code",
   "execution_count": 142,
   "metadata": {},
   "outputs": [
    {
     "name": "stdout",
     "output_type": "stream",
     "text": [
      "Loaded Model with input shape (None, 12, 28)\n",
      "Median mu has been set with size (8,)\n",
      "Finished blocking with autoencoder in 11.7590 s\n"
     ]
    }
   ],
   "source": [
    "model_path = '/Users/kailinlu/Desktop/QMSSWork/RecordLinking/models/lstm_letter_8_iowa_last/encoder.h5'\n",
    "\n",
    "blocker = Blocker(dfA=names_1915, dfB=names_1940)\n",
    "blocks = blocker.block(autoencoder_col='lname1915',\n",
    "                       autoencoder_colB='lname1940', \n",
    "                       autoencoder_model_path=model_path)"
   ]
  },
  {
   "cell_type": "code",
   "execution_count": 143,
   "metadata": {},
   "outputs": [
    {
     "name": "stdout",
     "output_type": "stream",
     "text": [
      "Num Blocks: 203\n",
      "Original Comparisons Needed: 449,404,991\n",
      "Total Comparisons 4,391,383 : 0.98% of original\n",
      "Avg Block Size: 21,632.43\n",
      "Max Block Size: 330,624\n",
      "Min Block Size: 1\n",
      "Balance Score (1=even sizes): 0.000003\n",
      "Num Matches Found 3672 Out Of 4320 (85.00%)\n",
      "Num blocks containing matches 187, (92.12%)\n"
     ]
    }
   ],
   "source": [
    "blocker.compute_block_metrics(match_indexA=indexA, match_indexB=indexB)"
   ]
  },
  {
   "cell_type": "code",
   "execution_count": 441,
   "metadata": {},
   "outputs": [
    {
     "name": "stdout",
     "output_type": "stream",
     "text": [
      "Finished computing autoencoder feature in 125.471208 s\n"
     ]
    }
   ],
   "source": [
    "compare_model_path = '/Users/kailinlu/Desktop/QMSSWork/RecordLinking/models/lstm_letter_192_iowa_last/encoder.h5'\n",
    "\n",
    "comparer = Comparer(blocker)\n",
    "comparer.compare_autoencoder(colA='lname1915', colB='lname1940', model_path=compare_model_path)\n",
    "comparer.compare_jarowinkler(colA='lname1915', colB='lname1940')\n",
    "comparer.compare_product(a='autoencoder', b='jarowinkler')\n",
    "comparer.compare_jarowinkler(colA='fname1915', colB='fname1940', colname='jarowinkler-first')"
   ]
  },
  {
   "cell_type": "code",
   "execution_count": 442,
   "metadata": {},
   "outputs": [
    {
     "data": {
      "text/html": [
       "<div>\n",
       "<style scoped>\n",
       "    .dataframe tbody tr th:only-of-type {\n",
       "        vertical-align: middle;\n",
       "    }\n",
       "\n",
       "    .dataframe tbody tr th {\n",
       "        vertical-align: top;\n",
       "    }\n",
       "\n",
       "    .dataframe thead th {\n",
       "        text-align: right;\n",
       "    }\n",
       "</style>\n",
       "<table border=\"1\" class=\"dataframe\">\n",
       "  <thead>\n",
       "    <tr style=\"text-align: right;\">\n",
       "      <th></th>\n",
       "      <th>indexA</th>\n",
       "      <th>indexB</th>\n",
       "      <th>autoencoder</th>\n",
       "      <th>jarowinkler</th>\n",
       "      <th>product-autoencoder-jarowinkler</th>\n",
       "      <th>jarowinkler-first</th>\n",
       "    </tr>\n",
       "  </thead>\n",
       "  <tbody>\n",
       "    <tr>\n",
       "      <th>0</th>\n",
       "      <td>1194</td>\n",
       "      <td>1182</td>\n",
       "      <td>1.000000</td>\n",
       "      <td>1.00</td>\n",
       "      <td>1.000000</td>\n",
       "      <td>1.00</td>\n",
       "    </tr>\n",
       "    <tr>\n",
       "      <th>1</th>\n",
       "      <td>1194</td>\n",
       "      <td>4470</td>\n",
       "      <td>0.500000</td>\n",
       "      <td>0.52</td>\n",
       "      <td>0.260000</td>\n",
       "      <td>0.46</td>\n",
       "    </tr>\n",
       "    <tr>\n",
       "      <th>2</th>\n",
       "      <td>1194</td>\n",
       "      <td>7406</td>\n",
       "      <td>0.546875</td>\n",
       "      <td>0.55</td>\n",
       "      <td>0.300781</td>\n",
       "      <td>0.61</td>\n",
       "    </tr>\n",
       "    <tr>\n",
       "      <th>3</th>\n",
       "      <td>1194</td>\n",
       "      <td>17520</td>\n",
       "      <td>1.000000</td>\n",
       "      <td>1.00</td>\n",
       "      <td>1.000000</td>\n",
       "      <td>0.56</td>\n",
       "    </tr>\n",
       "    <tr>\n",
       "      <th>4</th>\n",
       "      <td>1194</td>\n",
       "      <td>22496</td>\n",
       "      <td>0.526042</td>\n",
       "      <td>0.55</td>\n",
       "      <td>0.289323</td>\n",
       "      <td>0.53</td>\n",
       "    </tr>\n",
       "  </tbody>\n",
       "</table>\n",
       "</div>"
      ],
      "text/plain": [
       "   indexA  indexB  autoencoder  jarowinkler  product-autoencoder-jarowinkler  \\\n",
       "0    1194    1182     1.000000         1.00                         1.000000   \n",
       "1    1194    4470     0.500000         0.52                         0.260000   \n",
       "2    1194    7406     0.546875         0.55                         0.300781   \n",
       "3    1194   17520     1.000000         1.00                         1.000000   \n",
       "4    1194   22496     0.526042         0.55                         0.289323   \n",
       "\n",
       "   jarowinkler-first  \n",
       "0               1.00  \n",
       "1               0.46  \n",
       "2               0.61  \n",
       "3               0.56  \n",
       "4               0.53  "
      ]
     },
     "execution_count": 442,
     "metadata": {},
     "output_type": "execute_result"
    }
   ],
   "source": [
    "comparer.features.head()"
   ]
  },
  {
   "cell_type": "code",
   "execution_count": 443,
   "metadata": {},
   "outputs": [
    {
     "data": {
      "text/html": [
       "<div>\n",
       "<style scoped>\n",
       "    .dataframe tbody tr th:only-of-type {\n",
       "        vertical-align: middle;\n",
       "    }\n",
       "\n",
       "    .dataframe tbody tr th {\n",
       "        vertical-align: top;\n",
       "    }\n",
       "\n",
       "    .dataframe thead th {\n",
       "        text-align: right;\n",
       "    }\n",
       "</style>\n",
       "<table border=\"1\" class=\"dataframe\">\n",
       "  <thead>\n",
       "    <tr style=\"text-align: right;\">\n",
       "      <th></th>\n",
       "      <th>indexA</th>\n",
       "      <th>indexB</th>\n",
       "      <th>autoencoder</th>\n",
       "      <th>jarowinkler</th>\n",
       "      <th>product-autoencoder-jarowinkler</th>\n",
       "      <th>jarowinkler-first</th>\n",
       "    </tr>\n",
       "  </thead>\n",
       "  <tbody>\n",
       "    <tr>\n",
       "      <th>0</th>\n",
       "      <td>1194</td>\n",
       "      <td>1182</td>\n",
       "      <td>1</td>\n",
       "      <td>1</td>\n",
       "      <td>1</td>\n",
       "      <td>1</td>\n",
       "    </tr>\n",
       "    <tr>\n",
       "      <th>1</th>\n",
       "      <td>1194</td>\n",
       "      <td>4470</td>\n",
       "      <td>0</td>\n",
       "      <td>0</td>\n",
       "      <td>0</td>\n",
       "      <td>0</td>\n",
       "    </tr>\n",
       "    <tr>\n",
       "      <th>2</th>\n",
       "      <td>1194</td>\n",
       "      <td>7406</td>\n",
       "      <td>0</td>\n",
       "      <td>0</td>\n",
       "      <td>0</td>\n",
       "      <td>0</td>\n",
       "    </tr>\n",
       "    <tr>\n",
       "      <th>3</th>\n",
       "      <td>1194</td>\n",
       "      <td>17520</td>\n",
       "      <td>1</td>\n",
       "      <td>1</td>\n",
       "      <td>1</td>\n",
       "      <td>0</td>\n",
       "    </tr>\n",
       "    <tr>\n",
       "      <th>4</th>\n",
       "      <td>1194</td>\n",
       "      <td>22496</td>\n",
       "      <td>0</td>\n",
       "      <td>0</td>\n",
       "      <td>0</td>\n",
       "      <td>0</td>\n",
       "    </tr>\n",
       "  </tbody>\n",
       "</table>\n",
       "</div>"
      ],
      "text/plain": [
       "   indexA  indexB  autoencoder  jarowinkler  product-autoencoder-jarowinkler  \\\n",
       "0    1194    1182            1            1                                1   \n",
       "1    1194    4470            0            0                                0   \n",
       "2    1194    7406            0            0                                0   \n",
       "3    1194   17520            1            1                                1   \n",
       "4    1194   22496            0            0                                0   \n",
       "\n",
       "   jarowinkler-first  \n",
       "0                  1  \n",
       "1                  0  \n",
       "2                  0  \n",
       "3                  0  \n",
       "4                  0  "
      ]
     },
     "execution_count": 443,
     "metadata": {},
     "output_type": "execute_result"
    }
   ],
   "source": [
    "features = comparer.discretize({'autoencoder': 0.88, \n",
    "                                'jarowinkler': 0.88,\n",
    "                                'jarowinkler-first': 0.88,\n",
    "                                'product-autoencoder-jarowinkler': .8}, \n",
    "                              binary=True)\n",
    "features.head()"
   ]
  },
  {
   "cell_type": "markdown",
   "metadata": {},
   "source": [
    "####  Preparing CSVs for linkage using R fastLink"
   ]
  },
  {
   "cell_type": "code",
   "execution_count": null,
   "metadata": {
    "collapsed": true
   },
   "outputs": [],
   "source": [
    "# # Denote 2 for exact match, 1 for close match, 0 for no match\n",
    "fastlink_features = comparer.discretize({'autoencoder': 0.8, \n",
    "                                         'jarowinkler': 0.88, \n",
    "                                         'product-autoencoder-jarowinkler': 0.8}, \n",
    "                                       binary=False)\n",
    "fastlink_features.head()"
   ]
  },
  {
   "cell_type": "code",
   "execution_count": 439,
   "metadata": {},
   "outputs": [],
   "source": [
    "# # Jaro Winkler only \n",
    "# jw_table = pd.pivot_table(fastlink_features, index='jarowinkler', values='indexA', aggfunc='count')\n",
    "# jw_table.reset_index(inplace=True)\n",
    "# jw_table.columns = ['gamma.1', 'counts']\n",
    "# jw_table\n",
    "\n",
    "# # Autoencoder only \n",
    "# auto_table = pd.pivot_table(fastlink_features, index='autoencoder', values='indexA', aggfunc='count')\n",
    "# auto_table.reset_index(inplace=True)\n",
    "# auto_table.columns = ['gamma.1', 'counts']\n",
    "# auto_table\n",
    "\n",
    "# # Product only \n",
    "# product_table = pd.pivot_table(fastlink_features, index='product-autoencoder-jarowinkler', values='indexA', aggfunc='count')\n",
    "# product_table.reset_index(inplace=True)\n",
    "# product_table.columns = ['gamma.1', 'counts']\n",
    "# product_table\n",
    "\n",
    "# # JW and Autoencoder \n",
    "# jw_auto_table = pd.pivot_table(fastlink_features, \n",
    "#                                index=['jarowinkler', 'autoencoder'], \n",
    "#                                values='indexA', \n",
    "#                                aggfunc='count')\n",
    "\n",
    "# jw_auto_table.reset_index(inplace=True)\n",
    "# jw_auto_table.columns = ['gamma.1', 'gamma.2', 'counts']\n",
    "# jw_auto_table"
   ]
  },
  {
   "cell_type": "markdown",
   "metadata": {},
   "source": [
    "## Metrics for linking \n",
    "\n",
    "1. False Negative \n",
    "2. False Positive \n",
    "3. Accuracy \n",
    "4. F1 \n",
    "5. Confusion matrix \n",
    "6. Linkage time"
   ]
  },
  {
   "cell_type": "code",
   "execution_count": 394,
   "metadata": {
    "collapsed": true
   },
   "outputs": [],
   "source": [
    "import recordlinkage\n",
    "import time "
   ]
  },
  {
   "cell_type": "code",
   "execution_count": 445,
   "metadata": {
    "collapsed": true
   },
   "outputs": [],
   "source": [
    "linkage_features = features.set_index(['indexB', 'indexA'])\n",
    "true_matches = pd.MultiIndex.from_tuples(list(zip(indexB, indexA)))"
   ]
  },
  {
   "cell_type": "code",
   "execution_count": 462,
   "metadata": {},
   "outputs": [
    {
     "name": "stdout",
     "output_type": "stream",
     "text": [
      "Prediction Time 1.727759 s\n"
     ]
    }
   ],
   "source": [
    "# Jaro Winkler first and last\n",
    "start_time = time.time() \n",
    "jw_ecm = recordlinkage.KMeansClassifier()\n",
    "jw_prediction = jw_ecm.fit_predict(linkage_features[['jarowinkler', 'jarowinkler-first']])\n",
    "print('Prediction Time {:4f} s'.format(time.time() - start_time))"
   ]
  },
  {
   "cell_type": "code",
   "execution_count": 465,
   "metadata": {},
   "outputs": [
    {
     "data": {
      "text/plain": [
       "array([[   3283,    1037],\n",
       "       [  16588, 4370475]])"
      ]
     },
     "execution_count": 465,
     "metadata": {},
     "output_type": "execute_result"
    }
   ],
   "source": [
    "recordlinkage.confusion_matrix(true_matches,jw_prediction, len(linkage_features))"
   ]
  },
  {
   "cell_type": "code",
   "execution_count": 474,
   "metadata": {},
   "outputs": [
    {
     "name": "stdout",
     "output_type": "stream",
     "text": [
      "F:  0.27142325658302674\n",
      "Precision:  0.16521564088369986\n",
      "Recall:  0.7599537037037037\n"
     ]
    }
   ],
   "source": [
    "print('F: ', recordlinkage.fscore(true_matches,jw_prediction))\n",
    "print('Precision: ', recordlinkage.precision(true_matches,jw_prediction))\n",
    "print('Recall: ', recordlinkage.recall(true_matches,jw_prediction))"
   ]
  },
  {
   "cell_type": "code",
   "execution_count": 482,
   "metadata": {},
   "outputs": [
    {
     "name": "stdout",
     "output_type": "stream",
     "text": [
      "Prediction Time 1.292093 s\n"
     ]
    }
   ],
   "source": [
    "# Autoencoder \n",
    "start_time = time.time() \n",
    "auto_ecm = recordlinkage.KMeansClassifier()\n",
    "auto_prediction = auto_ecm.fit_predict(linkage_features[['autoencoder']])\n",
    "print('Prediction Time {:4f} s'.format(time.time() - start_time))"
   ]
  },
  {
   "cell_type": "code",
   "execution_count": 483,
   "metadata": {},
   "outputs": [
    {
     "data": {
      "text/plain": [
       "array([[   3395,     925],\n",
       "       [ 554387, 3832676]])"
      ]
     },
     "execution_count": 483,
     "metadata": {},
     "output_type": "execute_result"
    }
   ],
   "source": [
    "recordlinkage.confusion_matrix(true_matches,auto_prediction, len(linkage_features))"
   ]
  },
  {
   "cell_type": "code",
   "execution_count": 478,
   "metadata": {},
   "outputs": [
    {
     "name": "stdout",
     "output_type": "stream",
     "text": [
      "F:  0.012079658140337518\n",
      "Precision:  0.0060866073125342875\n",
      "Recall:  0.7858796296296297\n"
     ]
    }
   ],
   "source": [
    "print('F: ', recordlinkage.fscore(true_matches,auto_prediction))\n",
    "print('Precision: ', recordlinkage.precision(true_matches,auto_prediction))\n",
    "print('Recall: ', recordlinkage.recall(true_matches,auto_prediction))"
   ]
  },
  {
   "cell_type": "code",
   "execution_count": 484,
   "metadata": {},
   "outputs": [
    {
     "name": "stdout",
     "output_type": "stream",
     "text": [
      "Prediction Time 2.396527 s\n"
     ]
    }
   ],
   "source": [
    "start_time = time.time() \n",
    "jw_auto_ecm = recordlinkage.KMeansClassifier()\n",
    "jw_auto_prediction = jw_auto_ecm.fit_predict(linkage_features[['jarowinkler', 'jarowinkler-first', 'autoencoder']])\n",
    "print('Prediction Time {:4f} s'.format(time.time() - start_time))"
   ]
  },
  {
   "cell_type": "code",
   "execution_count": 485,
   "metadata": {},
   "outputs": [
    {
     "data": {
      "text/plain": [
       "array([[   3395,     925],\n",
       "       [ 554387, 3832676]])"
      ]
     },
     "execution_count": 485,
     "metadata": {},
     "output_type": "execute_result"
    }
   ],
   "source": [
    "recordlinkage.confusion_matrix(true_matches, jw_auto_prediction, len(linkage_features))"
   ]
  },
  {
   "cell_type": "code",
   "execution_count": 486,
   "metadata": {},
   "outputs": [
    {
     "name": "stdout",
     "output_type": "stream",
     "text": [
      "F:  0.012079658140337518\n",
      "Precision:  0.0060866073125342875\n",
      "Recall:  0.7858796296296297\n"
     ]
    }
   ],
   "source": [
    "print('F: ', recordlinkage.fscore(true_matches,jw_auto_prediction))\n",
    "print('Precision: ', recordlinkage.precision(true_matches,jw_auto_prediction))\n",
    "print('Recall: ', recordlinkage.recall(true_matches,jw_auto_prediction))"
   ]
  },
  {
   "cell_type": "code",
   "execution_count": 487,
   "metadata": {},
   "outputs": [
    {
     "name": "stdout",
     "output_type": "stream",
     "text": [
      "Prediction Time 2.726355 s\n"
     ]
    }
   ],
   "source": [
    "start_time = time.time() \n",
    "all_ecm = recordlinkage.KMeansClassifier()\n",
    "all_prediction = all_ecm.fit_predict(linkage_features[['autoencoder', 'jarowinkler', 'jarowinkler-first', 'product-autoencoder-jarowinkler']])\n",
    "print('Prediction Time {:4f} s'.format(time.time() - start_time))"
   ]
  },
  {
   "cell_type": "code",
   "execution_count": 489,
   "metadata": {},
   "outputs": [
    {
     "data": {
      "text/plain": [
       "array([[   3483,     837],\n",
       "       [ 594370, 3792693]])"
      ]
     },
     "execution_count": 489,
     "metadata": {},
     "output_type": "execute_result"
    }
   ],
   "source": [
    "recordlinkage.confusion_matrix(true_matches, all_prediction, len(linkage_features))"
   ]
  },
  {
   "cell_type": "code",
   "execution_count": 491,
   "metadata": {},
   "outputs": [
    {
     "name": "stdout",
     "output_type": "stream",
     "text": [
      "F:  0.011568104182685043\n",
      "Precision:  0.005825846821877619\n",
      "Recall:  0.80625\n"
     ]
    }
   ],
   "source": [
    "print('F: ', recordlinkage.fscore(true_matches,all_prediction))\n",
    "print('Precision: ', recordlinkage.precision(true_matches,all_prediction))\n",
    "print('Recall: ', recordlinkage.recall(true_matches,all_prediction))"
   ]
  }
 ],
 "metadata": {
  "kernelspec": {
   "display_name": "Python 3",
   "language": "python",
   "name": "python3"
  },
  "language_info": {
   "codemirror_mode": {
    "name": "ipython",
    "version": 3
   },
   "file_extension": ".py",
   "mimetype": "text/x-python",
   "name": "python",
   "nbconvert_exporter": "python",
   "pygments_lexer": "ipython3",
   "version": "3.6.5"
  }
 },
 "nbformat": 4,
 "nbformat_minor": 2
}
