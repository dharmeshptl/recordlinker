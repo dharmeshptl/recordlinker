{
 "cells": [
  {
   "cell_type": "code",
   "execution_count": 205,
   "metadata": {},
   "outputs": [],
   "source": [
    "import itertools\n",
    "import time\n",
    "\n",
    "import recordlinker\n",
    "from recordlinker.blocking import BinaryEncoder, Blocker, Comparer\n",
    "from recordlinker.metrics import normalized_l1\n",
    "\n",
    "import numpy as np\n",
    "import pandas as pd\n",
    "\n",
    "import sklearn\n",
    "from sklearn import metrics\n",
    "\n",
    "from pyjarowinkler import distance\n",
    "\n",
    "import multiprocessing as mp\n",
    "\n",
    "import matplotlib.pyplot as plt\n",
    "%matplotlib inline\n",
    "\n",
    "import warnings\n",
    "warnings.filterwarnings('ignore')"
   ]
  },
  {
   "cell_type": "code",
   "execution_count": 4,
   "metadata": {
    "collapsed": true
   },
   "outputs": [],
   "source": [
    "%reload_ext autoreload\n",
    "%autoreload 2"
   ]
  },
  {
   "cell_type": "code",
   "execution_count": 5,
   "metadata": {},
   "outputs": [
    {
     "name": "stdout",
     "output_type": "stream",
     "text": [
      "Number of total matches: 4320\n",
      "Number of exact matches: 3240\n"
     ]
    }
   ],
   "source": [
    "iowa_matches = pd.read_csv(\n",
    "    '/Users/kailinlu/Desktop/QMSSWork/RecordLinking/recordlinker/recordlinker/data/iowa_matches.csv')\n",
    "iowa_matches.drop_duplicates(subset=['uid1915', 'hhid'], inplace=True)\n",
    "iowa_nonmatches = pd.read_csv(\n",
    "    '/Users/kailinlu/Desktop/QMSSWork/RecordLinking/recordlinker/recordlinker/data/iowa_nonmatches.csv')\n",
    "iowa_nonmatches.drop_duplicates(subset=['uid1915', 'hhid'], inplace=True)\n",
    "\n",
    "iowa_matches['match'] = 1\n",
    "iowa_nonmatches['match'] = 0\n",
    "\n",
    "iowa = pd.concat([iowa_matches, iowa_nonmatches])\n",
    "total_matches = len(iowa_matches['uid-hhid'])\n",
    "exact_matches = np.sum(iowa_matches['lname1915'] == iowa_matches['lname1940'])\n",
    "print('Number of total matches: {}'.format(total_matches))\n",
    "print('Number of exact matches: {}'.format(exact_matches))\n",
    "\n",
    "names_1915 = iowa[['lname1915', 'uid1915', 'yob1915', 'fname1915']]\n",
    "names_1915.drop_duplicates(subset=['uid1915'], inplace=True)\n",
    "names_1940 = iowa[['lname1940', 'hhid', 'yob1940', 'fname1940']]\n",
    "names_1940.drop_duplicates(subset=['hhid'], inplace=True)\n",
    "names_1915.reset_index(inplace=True)\n",
    "names_1940.reset_index(inplace=True)"
   ]
  },
  {
   "cell_type": "code",
   "execution_count": 97,
   "metadata": {
    "collapsed": true
   },
   "outputs": [],
   "source": [
    "# Get indices of matches \n",
    "iowa['indexA'] = iowa['uid1915'].apply(lambda x: names_1915[names_1915['uid1915']==x].index[0]) \n",
    "iowa['indexB'] = iowa['hhid'].apply(lambda x: names_1940[names_1940['hhid']==x].index[0]) "
   ]
  },
  {
   "cell_type": "code",
   "execution_count": 98,
   "metadata": {
    "collapsed": true
   },
   "outputs": [],
   "source": [
    "indexA = iowa[iowa['match']==1]['indexA']\n",
    "indexB = iowa[iowa['match']==1]['indexB']"
   ]
  },
  {
   "cell_type": "markdown",
   "metadata": {},
   "source": [
    "## Create comparison matrix"
   ]
  },
  {
   "cell_type": "code",
   "execution_count": 142,
   "metadata": {},
   "outputs": [
    {
     "name": "stdout",
     "output_type": "stream",
     "text": [
      "Loaded Model with input shape (None, 12, 28)\n",
      "Median mu has been set with size (8,)\n",
      "Finished blocking with autoencoder in 11.7590 s\n"
     ]
    }
   ],
   "source": [
    "model_path = '/Users/kailinlu/Desktop/QMSSWork/RecordLinking/models/lstm_letter_8_iowa_last/encoder.h5'\n",
    "\n",
    "blocker = Blocker(dfA=names_1915, dfB=names_1940)\n",
    "blocks = blocker.block(autoencoder_col='lname1915',\n",
    "                       autoencoder_colB='lname1940', \n",
    "                       autoencoder_model_path=model_path)"
   ]
  },
  {
   "cell_type": "code",
   "execution_count": 143,
   "metadata": {},
   "outputs": [
    {
     "name": "stdout",
     "output_type": "stream",
     "text": [
      "Num Blocks: 203\n",
      "Original Comparisons Needed: 449,404,991\n",
      "Total Comparisons 4,391,383 : 0.98% of original\n",
      "Avg Block Size: 21,632.43\n",
      "Max Block Size: 330,624\n",
      "Min Block Size: 1\n",
      "Balance Score (1=even sizes): 0.000003\n",
      "Num Matches Found 3672 Out Of 4320 (85.00%)\n",
      "Num blocks containing matches 187, (92.12%)\n"
     ]
    }
   ],
   "source": [
    "blocker.compute_block_metrics(match_indexA=indexA, match_indexB=indexB)"
   ]
  },
  {
   "cell_type": "code",
   "execution_count": 206,
   "metadata": {},
   "outputs": [
    {
     "name": "stdout",
     "output_type": "stream",
     "text": [
      "Loaded Model with input shape (None, 12, 28)\n",
      "Median mu has been set with size (192,)\n",
      "Finished computing autoencoder feature in 65.483876 s\n",
      "Finished computing autoencoder feature in 132.162353 s\n"
     ]
    },
    {
     "data": {
      "text/html": [
       "<div>\n",
       "<style scoped>\n",
       "    .dataframe tbody tr th:only-of-type {\n",
       "        vertical-align: middle;\n",
       "    }\n",
       "\n",
       "    .dataframe tbody tr th {\n",
       "        vertical-align: top;\n",
       "    }\n",
       "\n",
       "    .dataframe thead th {\n",
       "        text-align: right;\n",
       "    }\n",
       "</style>\n",
       "<table border=\"1\" class=\"dataframe\">\n",
       "  <thead>\n",
       "    <tr style=\"text-align: right;\">\n",
       "      <th></th>\n",
       "      <th>indexA</th>\n",
       "      <th>indexB</th>\n",
       "      <th>autoencoder</th>\n",
       "      <th>jarowinkler</th>\n",
       "    </tr>\n",
       "  </thead>\n",
       "  <tbody>\n",
       "    <tr>\n",
       "      <th>0</th>\n",
       "      <td>1194</td>\n",
       "      <td>1182</td>\n",
       "      <td>1.000000</td>\n",
       "      <td>1.00</td>\n",
       "    </tr>\n",
       "    <tr>\n",
       "      <th>1</th>\n",
       "      <td>1194</td>\n",
       "      <td>4470</td>\n",
       "      <td>0.500000</td>\n",
       "      <td>0.52</td>\n",
       "    </tr>\n",
       "    <tr>\n",
       "      <th>2</th>\n",
       "      <td>1194</td>\n",
       "      <td>7406</td>\n",
       "      <td>0.546875</td>\n",
       "      <td>0.55</td>\n",
       "    </tr>\n",
       "    <tr>\n",
       "      <th>3</th>\n",
       "      <td>1194</td>\n",
       "      <td>17520</td>\n",
       "      <td>1.000000</td>\n",
       "      <td>1.00</td>\n",
       "    </tr>\n",
       "    <tr>\n",
       "      <th>4</th>\n",
       "      <td>1194</td>\n",
       "      <td>22496</td>\n",
       "      <td>0.526042</td>\n",
       "      <td>0.55</td>\n",
       "    </tr>\n",
       "  </tbody>\n",
       "</table>\n",
       "</div>"
      ],
      "text/plain": [
       "   indexA  indexB  autoencoder  jarowinkler\n",
       "0    1194    1182     1.000000         1.00\n",
       "1    1194    4470     0.500000         0.52\n",
       "2    1194    7406     0.546875         0.55\n",
       "3    1194   17520     1.000000         1.00\n",
       "4    1194   22496     0.526042         0.55"
      ]
     },
     "execution_count": 206,
     "metadata": {},
     "output_type": "execute_result"
    }
   ],
   "source": [
    "compare_model_path = '/Users/kailinlu/Desktop/QMSSWork/RecordLinking/models/lstm_letter_192_iowa_last/encoder.h5'\n",
    "\n",
    "comparer = Comparer(blocker)\n",
    "comparer.compare_autoencoder(colA='lname1915', colB='lname1940', model_path=compare_model_path)\n",
    "comparer.compare_jarowinkler(colA='lname1915', colB='lname1940')\n",
    "\n",
    "comparer.features.head()"
   ]
  },
  {
   "cell_type": "code",
   "execution_count": 211,
   "metadata": {},
   "outputs": [],
   "source": [
    "binarized_features = comparer.binarize({'autoencoder': 0.84, 'jarowinkler': 0.84})"
   ]
  },
  {
   "cell_type": "code",
   "execution_count": 212,
   "metadata": {},
   "outputs": [
    {
     "data": {
      "text/html": [
       "<div>\n",
       "<style scoped>\n",
       "    .dataframe tbody tr th:only-of-type {\n",
       "        vertical-align: middle;\n",
       "    }\n",
       "\n",
       "    .dataframe tbody tr th {\n",
       "        vertical-align: top;\n",
       "    }\n",
       "\n",
       "    .dataframe thead th {\n",
       "        text-align: right;\n",
       "    }\n",
       "</style>\n",
       "<table border=\"1\" class=\"dataframe\">\n",
       "  <thead>\n",
       "    <tr style=\"text-align: right;\">\n",
       "      <th></th>\n",
       "      <th>indexA</th>\n",
       "      <th>indexB</th>\n",
       "      <th>autoencoder</th>\n",
       "      <th>jarowinkler</th>\n",
       "    </tr>\n",
       "  </thead>\n",
       "  <tbody>\n",
       "    <tr>\n",
       "      <th>0</th>\n",
       "      <td>1194</td>\n",
       "      <td>1182</td>\n",
       "      <td>1</td>\n",
       "      <td>1</td>\n",
       "    </tr>\n",
       "    <tr>\n",
       "      <th>1</th>\n",
       "      <td>1194</td>\n",
       "      <td>4470</td>\n",
       "      <td>0</td>\n",
       "      <td>0</td>\n",
       "    </tr>\n",
       "    <tr>\n",
       "      <th>2</th>\n",
       "      <td>1194</td>\n",
       "      <td>7406</td>\n",
       "      <td>0</td>\n",
       "      <td>0</td>\n",
       "    </tr>\n",
       "    <tr>\n",
       "      <th>3</th>\n",
       "      <td>1194</td>\n",
       "      <td>17520</td>\n",
       "      <td>1</td>\n",
       "      <td>1</td>\n",
       "    </tr>\n",
       "    <tr>\n",
       "      <th>4</th>\n",
       "      <td>1194</td>\n",
       "      <td>22496</td>\n",
       "      <td>0</td>\n",
       "      <td>0</td>\n",
       "    </tr>\n",
       "  </tbody>\n",
       "</table>\n",
       "</div>"
      ],
      "text/plain": [
       "   indexA  indexB  autoencoder  jarowinkler\n",
       "0    1194    1182            1            1\n",
       "1    1194    4470            0            0\n",
       "2    1194    7406            0            0\n",
       "3    1194   17520            1            1\n",
       "4    1194   22496            0            0"
      ]
     },
     "execution_count": 212,
     "metadata": {},
     "output_type": "execute_result"
    }
   ],
   "source": [
    "binarized_features.head()"
   ]
  },
  {
   "cell_type": "markdown",
   "metadata": {},
   "source": [
    "## Metrics for linking \n",
    "\n",
    "1. False Negative \n",
    "2. False Positive \n",
    "3. Accuracy \n",
    "4. F1 \n",
    "5. Confusion matrix \n",
    "6. Linkage time"
   ]
  },
  {
   "cell_type": "code",
   "execution_count": null,
   "metadata": {
    "collapsed": true
   },
   "outputs": [],
   "source": []
  }
 ],
 "metadata": {
  "kernelspec": {
   "display_name": "Python 3",
   "language": "python",
   "name": "python3"
  },
  "language_info": {
   "codemirror_mode": {
    "name": "ipython",
    "version": 3
   },
   "file_extension": ".py",
   "mimetype": "text/x-python",
   "name": "python",
   "nbconvert_exporter": "python",
   "pygments_lexer": "ipython3",
   "version": "3.6.5"
  }
 },
 "nbformat": 4,
 "nbformat_minor": 2
}
