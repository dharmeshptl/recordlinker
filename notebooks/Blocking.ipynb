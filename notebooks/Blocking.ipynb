{
 "cells": [
  {
   "cell_type": "code",
   "execution_count": 1,
   "metadata": {},
   "outputs": [
    {
     "name": "stderr",
     "output_type": "stream",
     "text": [
      "Using TensorFlow backend.\n"
     ]
    }
   ],
   "source": [
    "import recordlinker\n",
    "from recordlinker.blocking import BinaryEncoder, Blocker\n",
    "\n",
    "import pandas as pd\n",
    "import numpy as np\n",
    "\n",
    "import warnings\n",
    "warnings.filterwarnings('ignore')"
   ]
  },
  {
   "cell_type": "code",
   "execution_count": 26,
   "metadata": {
    "collapsed": true
   },
   "outputs": [],
   "source": [
    "# Autoreload modules\n",
    "%reload_ext autoreload\n",
    "%autoreload 2\n",
    "\n",
    "# Memory profiler\n",
    "%load_ext memory_profiler\n",
    "%load_ext line_profiler"
   ]
  },
  {
   "cell_type": "markdown",
   "metadata": {},
   "source": [
    "### Load the data and mark matches and nonmatches\n",
    "\n",
    "#### Iowa "
   ]
  },
  {
   "cell_type": "code",
   "execution_count": 3,
   "metadata": {},
   "outputs": [
    {
     "name": "stdout",
     "output_type": "stream",
     "text": [
      "Number of total matches: 4320\n",
      "Number of exact matches: 3240\n"
     ]
    }
   ],
   "source": [
    "iowa_matches = pd.read_csv('/Users/kailinlu/Desktop/QMSSWork/RecordLinking/recordlinker/recordlinker/data/iowa_matches.csv')\n",
    "iowa_matches.drop_duplicates(subset=['uid1915', 'hhid'], inplace=True)\n",
    "iowa_nonmatches = pd.read_csv('/Users/kailinlu/Desktop/QMSSWork/RecordLinking/recordlinker/recordlinker/data/iowa_nonmatches.csv')\n",
    "iowa_nonmatches.drop_duplicates(subset=['uid1915', 'hhid'], inplace=True)\n",
    "\n",
    "iowa_matches['match'] = 1\n",
    "iowa_nonmatches['match'] = 0\n",
    "\n",
    "iowa = pd.concat([iowa_matches, iowa_nonmatches])\n",
    "total_matches = len(iowa_matches['uid-hhid'])\n",
    "exact_matches = np.sum(iowa_matches['lname1915'] == iowa_matches['lname1940'])\n",
    "print('Number of total matches: {}'.format(total_matches))\n",
    "print('Number of exact matches: {}'.format(exact_matches))"
   ]
  },
  {
   "cell_type": "markdown",
   "metadata": {},
   "source": [
    "Extract unique IDs for 1915 names and unique IDs for 1940 names. \n",
    "\n",
    "There are 6881 unique 1915 people and 65939 unique 1940 people. We want to match the correct uid-hhid pairs as denoted in the iowa dataframe. "
   ]
  },
  {
   "cell_type": "code",
   "execution_count": 4,
   "metadata": {
    "collapsed": true
   },
   "outputs": [],
   "source": [
    "names_1915 = iowa[['lname1915', 'uid1915', 'yob1915', 'fname1915']]\n",
    "names_1915.drop_duplicates(subset=['uid1915'], inplace=True)\n",
    "names_1940 = iowa[['lname1940', 'hhid', 'yob1940', 'fname1940']]\n",
    "names_1940.drop_duplicates(subset=['hhid'], inplace=True)\n",
    "names_1915.reset_index(inplace=True)\n",
    "names_1940.reset_index(inplace=True)"
   ]
  },
  {
   "cell_type": "code",
   "execution_count": 5,
   "metadata": {},
   "outputs": [
    {
     "name": "stdout",
     "output_type": "stream",
     "text": [
      "<class 'pandas.core.frame.DataFrame'>\n",
      "RangeIndex: 6881 entries, 0 to 6880\n",
      "Data columns (total 5 columns):\n",
      "index        6881 non-null int64\n",
      "lname1915    6881 non-null object\n",
      "uid1915      6881 non-null object\n",
      "yob1915      6881 non-null int64\n",
      "fname1915    6881 non-null object\n",
      "dtypes: int64(2), object(3)\n",
      "memory usage: 268.9+ KB\n"
     ]
    }
   ],
   "source": [
    "names_1915.info()"
   ]
  },
  {
   "cell_type": "code",
   "execution_count": 6,
   "metadata": {},
   "outputs": [
    {
     "name": "stdout",
     "output_type": "stream",
     "text": [
      "<class 'pandas.core.frame.DataFrame'>\n",
      "RangeIndex: 65311 entries, 0 to 65310\n",
      "Data columns (total 5 columns):\n",
      "index        65311 non-null int64\n",
      "lname1940    65311 non-null object\n",
      "hhid         65311 non-null int64\n",
      "yob1940      65311 non-null int64\n",
      "fname1940    65311 non-null object\n",
      "dtypes: int64(3), object(2)\n",
      "memory usage: 2.5+ MB\n"
     ]
    }
   ],
   "source": [
    "names_1940.info()"
   ]
  },
  {
   "cell_type": "code",
   "execution_count": 10,
   "metadata": {
    "collapsed": true
   },
   "outputs": [],
   "source": [
    "# Get indices of matches \n",
    "iowa['indexA'] = iowa['uid1915'].apply(lambda x: names_1915[names_1915['uid1915']==x].index[0]) \n",
    "iowa['indexB'] = iowa['hhid'].apply(lambda x: names_1940[names_1940['hhid']==x].index[0]) "
   ]
  },
  {
   "cell_type": "code",
   "execution_count": 11,
   "metadata": {
    "collapsed": true
   },
   "outputs": [],
   "source": [
    "indexA = iowa[iowa['match']==1]['indexA']\n",
    "indexB = iowa[iowa['match']==1]['indexB']"
   ]
  },
  {
   "cell_type": "markdown",
   "metadata": {},
   "source": [
    "#### Union army"
   ]
  },
  {
   "cell_type": "code",
   "execution_count": 11,
   "metadata": {
    "collapsed": true
   },
   "outputs": [],
   "source": [
    "union_matches = pd.read_csv('/Users/kailinlu/Desktop/QMSSWork/RecordLinking/recordlinker/recordlinker/data/unionarmy_matches.csv')\n",
    "union_nonmatches = pd.read_csv('/Users/kailinlu/Desktop/QMSSWork/RecordLinking/recordlinker/recordlinker/data/unionarmy_nonmatches.csv')"
   ]
  },
  {
   "cell_type": "code",
   "execution_count": 12,
   "metadata": {},
   "outputs": [
    {
     "name": "stdout",
     "output_type": "stream",
     "text": [
      "Number of total matches: 44098\n",
      "Number of exact matches: 33045\n"
     ]
    }
   ],
   "source": [
    "union_matches['match'] = 1\n",
    "union_nonmatches['match'] = 0\n",
    "\n",
    "union = pd.concat([union_matches, union_nonmatches])\n",
    "union['recidnum_x'] = union['recidnum_x'].fillna(union['recidnum'])\n",
    "union['recidnum_y'] = union['recidnum_y'].fillna(union['recidnum'])\n",
    "total_union_matches = len(union_matches['recidnum'])\n",
    "exact_union_matches = np.sum(union_matches['first1'] == union_matches['first2'])\n",
    "print('Number of total matches: {}'.format(total_union_matches))\n",
    "print('Number of exact matches: {}'.format(exact_union_matches))"
   ]
  },
  {
   "cell_type": "code",
   "execution_count": 13,
   "metadata": {},
   "outputs": [
    {
     "name": "stdout",
     "output_type": "stream",
     "text": [
      "<class 'pandas.core.frame.DataFrame'>\n",
      "Int64Index: 110242 entries, 0 to 66143\n",
      "Data columns (total 10 columns):\n",
      "first1        110242 non-null object\n",
      "first2        110242 non-null object\n",
      "last1         110242 non-null object\n",
      "last2         110242 non-null object\n",
      "match         110242 non-null int64\n",
      "recidnum      44098 non-null float64\n",
      "recidnum_x    110242 non-null float64\n",
      "recidnum_y    110242 non-null float64\n",
      "recname1      110242 non-null object\n",
      "recname2      110242 non-null object\n",
      "dtypes: float64(3), int64(1), object(6)\n",
      "memory usage: 9.3+ MB\n"
     ]
    }
   ],
   "source": [
    "union.info()"
   ]
  },
  {
   "cell_type": "code",
   "execution_count": 14,
   "metadata": {
    "collapsed": true
   },
   "outputs": [],
   "source": [
    "# Get unique namesA and namesB from the union dataset \n",
    "union_namesA = union[['first1', 'last1', 'recname1', 'recidnum_x']]\n",
    "union_namesA.drop_duplicates(subset=['recidnum_x'], inplace=True)\n",
    "union_namesB = union[['first2', 'last2', 'recname2', 'recidnum_y']]\n",
    "union_namesB.drop_duplicates(subset=['recidnum_y'], inplace=True)"
   ]
  },
  {
   "cell_type": "code",
   "execution_count": 15,
   "metadata": {
    "collapsed": true
   },
   "outputs": [],
   "source": [
    "# Get indices of matches \n",
    "union['indexA'] = union['recidnum_x'].apply(lambda x: union_namesA[union_namesA['recidnum_x']==x].index[0]) \n",
    "union['indexB'] = union['recidnum_y'].apply(lambda x: union_namesB[union_namesB['recidnum_y']==x].index[0])\n",
    "\n",
    "union_indexA = union[union['match']==1]['indexA']\n",
    "union_indexB = union[union['match']==1]['indexB']"
   ]
  },
  {
   "cell_type": "markdown",
   "metadata": {},
   "source": [
    "# Blocking\n",
    "\n",
    "We will test the quality of the blocks from the Dense and LSTM models with 2, 4, 8, and 16 latent variables.\n",
    "\n",
    "Metrics: \n",
    "\n",
    "1. Number of blocks \n",
    "2. Average size, max size, and min size of each block \n",
    "3. Balance of block sizes: % pairs in smallest block / %pairs in largest block\n",
    "4. % of all matches contained in at least one block\n",
    "5. Number and % of blocks which contain at least 1 match"
   ]
  },
  {
   "cell_type": "markdown",
   "metadata": {},
   "source": [
    "### Records to check without blocking"
   ]
  },
  {
   "cell_type": "markdown",
   "metadata": {},
   "source": [
    "#### Iowa dataset - Autoencoder"
   ]
  },
  {
   "cell_type": "code",
   "execution_count": 16,
   "metadata": {},
   "outputs": [
    {
     "name": "stdout",
     "output_type": "stream",
     "text": [
      "Warning: No blocking columns selected. Computing full cartesian product. This will likely be inefficient for block metric computation and linkage.\n",
      "Num Blocks: 1\n",
      "Original Comparisons Needed: 449,404,991\n",
      "Total Comparisons 449,404,991 : 100.00% of original\n",
      "Avg Block Size: 449,404,991.00\n",
      "Max Block Size: 449,404,991\n",
      "Min Block Size: 449,404,991\n",
      "Balance Score (1=even sizes): 1.000000\n",
      "Num Matches Found 4320 Out Of 4320 (100.00%)\n",
      "Num blocks containing matches 1, (100.00%)\n"
     ]
    }
   ],
   "source": [
    "# Example with no blocking done - metrics will take a long time to compute\n",
    "blocker = Blocker(dfA=names_1915, dfB=names_1940)\n",
    "blocks = blocker.block() \n",
    "blocker.compute_block_metrics(match_indexA=indexA, match_indexB=indexB)"
   ]
  },
  {
   "cell_type": "markdown",
   "metadata": {},
   "source": [
    "#### Union dataset - Autoencoder"
   ]
  },
  {
   "cell_type": "code",
   "execution_count": 17,
   "metadata": {},
   "outputs": [
    {
     "name": "stdout",
     "output_type": "stream",
     "text": [
      "Warning: No blocking columns selected. Computing full cartesian product. This will likely be inefficient for block metric computation and linkage.\n",
      "Num Blocks: 1\n",
      "Original Comparisons Needed: 1,944,633,604\n",
      "Total Comparisons 1,944,633,604 : 100.00% of original\n",
      "Avg Block Size: 1,944,633,604.00\n",
      "Max Block Size: 1,944,633,604\n",
      "Min Block Size: 1,944,633,604\n",
      "Balance Score (1=even sizes): 1.000000\n",
      "Num Matches Found 44098 Out Of 44098 (100.00%)\n",
      "Num blocks containing matches 1, (100.00%)\n"
     ]
    }
   ],
   "source": [
    "blocker = Blocker(dfA=union_namesA, dfB=union_namesB)\n",
    "blocks = blocker.block() \n",
    "blocker.compute_block_metrics(match_indexA=union_indexA, match_indexB=union_indexB)"
   ]
  },
  {
   "cell_type": "markdown",
   "metadata": {},
   "source": [
    "### Blocking With Binary Encoding"
   ]
  },
  {
   "cell_type": "markdown",
   "metadata": {},
   "source": [
    "#### Iowa"
   ]
  },
  {
   "cell_type": "code",
   "execution_count": 18,
   "metadata": {},
   "outputs": [
    {
     "name": "stdout",
     "output_type": "stream",
     "text": [
      "Block with 2 Encoding Units: \n",
      "\n",
      "Loaded Model with input shape (None, 12, 28)\n",
      "Median mu has been set with size (2,)\n",
      "Num Blocks: 4\n",
      "Original Comparisons Needed: 449,404,991\n",
      "Total Comparisons 221,733,332 : 49.34% of original\n",
      "Avg Block Size: 55,433,333.00\n",
      "Max Block Size: 112,619,884\n",
      "Min Block Size: 4,470\n",
      "Balance Score (1=even sizes): 0.000040\n",
      "Num Matches Found 4163 Out Of 4320 (96.37%)\n",
      "Num blocks containing matches 4, (100.00%)\n",
      "\n",
      "\n",
      "Block with 4 Encoding Units: \n",
      "\n",
      "Loaded Model with input shape (None, 12, 28)\n",
      "Median mu has been set with size (4,)\n",
      "Num Blocks: 15\n",
      "Original Comparisons Needed: 449,404,991\n",
      "Total Comparisons 113,379,503 : 25.23% of original\n",
      "Avg Block Size: 7,558,633.53\n",
      "Max Block Size: 44,538,417\n",
      "Min Block Size: 1\n",
      "Balance Score (1=even sizes): 0.000000\n",
      "Num Matches Found 4015 Out Of 4320 (92.94%)\n",
      "Num blocks containing matches 14, (93.33%)\n",
      "\n",
      "\n",
      "Block with 8 Encoding Units: \n",
      "\n",
      "Loaded Model with input shape (None, 12, 28)\n",
      "Median mu has been set with size (8,)\n",
      "Num Blocks: 203\n",
      "Original Comparisons Needed: 449,404,991\n",
      "Total Comparisons 4,391,383 : 0.98% of original\n",
      "Avg Block Size: 21,632.43\n",
      "Max Block Size: 330,624\n",
      "Min Block Size: 1\n",
      "Balance Score (1=even sizes): 0.000003\n",
      "Num Matches Found 3672 Out Of 4320 (85.00%)\n",
      "Num blocks containing matches 187, (92.12%)\n",
      "\n",
      "\n",
      "Block with 16 Encoding Units: \n",
      "\n",
      "Loaded Model with input shape (None, 12, 28)\n",
      "Median mu has been set with size (16,)\n",
      "Num Blocks: 2028\n",
      "Original Comparisons Needed: 449,404,991\n",
      "Total Comparisons 633,230 : 0.14% of original\n",
      "Avg Block Size: 312.24\n",
      "Max Block Size: 123,102\n",
      "Min Block Size: 1\n",
      "Balance Score (1=even sizes): 0.000008\n",
      "Num Matches Found 3387 Out Of 4320 (78.40%)\n",
      "Num blocks containing matches 1440, (71.01%)\n",
      "\n",
      "\n",
      "Block with 24 Encoding Units: \n",
      "\n",
      "Loaded Model with input shape (None, 12, 28)\n",
      "Median mu has been set with size (24,)\n",
      "Num Blocks: 1974\n",
      "Original Comparisons Needed: 449,404,991\n",
      "Total Comparisons 558,775 : 0.12% of original\n",
      "Avg Block Size: 283.07\n",
      "Max Block Size: 128,832\n",
      "Min Block Size: 1\n",
      "Balance Score (1=even sizes): 0.000008\n",
      "Num Matches Found 3292 Out Of 4320 (76.20%)\n",
      "Num blocks containing matches 1537, (77.86%)\n",
      "\n",
      "\n"
     ]
    }
   ],
   "source": [
    "# LSTM Encoding\n",
    "latent_dims = [2,4,8,16,24]\n",
    "\n",
    "for dim in latent_dims:\n",
    "    print('Block with {} Encoding Units: \\n'.format(dim))\n",
    "    model_path = '/Users/kailinlu/Desktop/QMSSWork/RecordLinking/models/lstm_letter_{}_iowa_last/encoder.h5'.format(dim)\n",
    "    blocker = Blocker(dfA=names_1915,\n",
    "                      dfB=names_1940)\n",
    "\n",
    "    blocks = blocker.block(autoencoder_col='lname1915',\n",
    "                           autoencoder_colB='lname1940', \n",
    "                           autoencoder_model_path=model_path)\n",
    "    blocker.compute_block_metrics(match_indexA=indexA, match_indexB=indexB)\n",
    "    print('\\n')"
   ]
  },
  {
   "cell_type": "code",
   "execution_count": 19,
   "metadata": {},
   "outputs": [
    {
     "name": "stdout",
     "output_type": "stream",
     "text": [
      "Block with 2 Encoding Units: \n",
      "\n",
      "Loaded Model with input shape (None, 12, 28)\n",
      "Median mu has been set with size (2,)\n",
      "Num Blocks: 4\n",
      "Original Comparisons Needed: 449404991\n",
      "Total Comparisons 114,288,704, 25.43% of original\n",
      "Avg Block Size: 28,572,176.00\n",
      "Max Block Size: 36,422,676\n",
      "Min Block Size: 19,912,400\n",
      "Balance Score (1=even sizes): 0.546703\n",
      "Num Matches Found 4083 Out Of 4320 (94.51%)\n",
      "Num blocks containing matches 4, (100.00%)\n",
      "\n",
      "\n",
      "Block with 4 Encoding Units: \n",
      "\n",
      "Loaded Model with input shape (None, 12, 28)\n",
      "Median mu has been set with size (4,)\n",
      "Num Blocks: 16\n",
      "Original Comparisons Needed: 449404991\n",
      "Total Comparisons 52,556,221, 11.69% of original\n",
      "Avg Block Size: 3,284,763.81\n",
      "Max Block Size: 11,758,920\n",
      "Min Block Size: 2,140\n",
      "Balance Score (1=even sizes): 0.000182\n",
      "Num Matches Found 3993 Out Of 4320 (92.43%)\n",
      "Num blocks containing matches 16, (100.00%)\n",
      "\n",
      "\n"
     ]
    }
   ],
   "source": [
    "# Does a more complex encoder relative to the decoder help balance matches? - Does not seem so \n",
    "# LSTM Encoder-Heavy models \n",
    "latent_dims = [2,4]\n",
    "\n",
    "for dim in latent_dims:\n",
    "    print('Block with {} Encoding Units: \\n'.format(dim))\n",
    "    model_path = '/Users/kailinlu/Desktop/QMSSWork/RecordLinking/models/lstm_letter_{}_iowa_last_smaller_decoder/encoder.h5'.format(dim)\n",
    "    blocker = Blocker(dfA=names_1915,\n",
    "                      dfB=names_1940)\n",
    "\n",
    "    blocks = blocker.block(autoencoder_col='lname1915',\n",
    "                                     autoencoder_colB='lname1940', \n",
    "                                     autoencoder_model_path=model_path)\n",
    "    blocker.compute_block_metrics(match_indexA=indexA, match_indexB=indexB)\n",
    "    print('\\n')"
   ]
  },
  {
   "cell_type": "code",
   "execution_count": 20,
   "metadata": {},
   "outputs": [
    {
     "name": "stdout",
     "output_type": "stream",
     "text": [
      "Block with 2 Encoding Units: \n",
      "\n",
      "Loaded Model with input shape (None, 12)\n",
      "Median mu has been set with size (2,)\n",
      "Num Blocks: 4\n",
      "Original Comparisons Needed: 449,404,991\n",
      "Total Comparisons 120,696,353 : 26.86% of original\n",
      "Avg Block Size: 30,174,088.25\n",
      "Max Block Size: 48,571,974\n",
      "Min Block Size: 13,723,448\n",
      "Balance Score (1=even sizes): 0.282538\n",
      "Num Matches Found 3987 Out Of 4320 (92.29%)\n",
      "Num blocks containing matches 4, (100.00%)\n",
      "\n",
      "\n",
      "Block with 4 Encoding Units: \n",
      "\n",
      "Loaded Model with input shape (None, 12)\n",
      "Median mu has been set with size (4,)\n",
      "Num Blocks: 15\n",
      "Original Comparisons Needed: 449,404,991\n",
      "Total Comparisons 38,404,323 : 8.55% of original\n",
      "Avg Block Size: 2,560,288.20\n",
      "Max Block Size: 7,044,708\n",
      "Min Block Size: 15\n",
      "Balance Score (1=even sizes): 0.000002\n",
      "Num Matches Found 3707 Out Of 4320 (85.81%)\n",
      "Num blocks containing matches 15, (100.00%)\n",
      "\n",
      "\n",
      "Block with 8 Encoding Units: \n",
      "\n",
      "Loaded Model with input shape (None, 12)\n",
      "Median mu has been set with size (8,)\n",
      "Num Blocks: 151\n",
      "Original Comparisons Needed: 449,404,991\n",
      "Total Comparisons 7,350,373 : 1.64% of original\n",
      "Avg Block Size: 48,677.97\n",
      "Max Block Size: 672,581\n",
      "Min Block Size: 4\n",
      "Balance Score (1=even sizes): 0.000006\n",
      "Num Matches Found 3517 Out Of 4320 (81.41%)\n",
      "Num blocks containing matches 142, (94.04%)\n",
      "\n",
      "\n",
      "Block with 16 Encoding Units: \n",
      "\n",
      "Loaded Model with input shape (None, 12)\n",
      "Median mu has been set with size (16,)\n",
      "Num Blocks: 1087\n",
      "Original Comparisons Needed: 449,404,991\n",
      "Total Comparisons 1,315,984 : 0.29% of original\n",
      "Avg Block Size: 1,210.66\n",
      "Max Block Size: 186,222\n",
      "Min Block Size: 1\n",
      "Balance Score (1=even sizes): 0.000005\n",
      "Num Matches Found 3358 Out Of 4320 (77.73%)\n",
      "Num blocks containing matches 835, (76.82%)\n",
      "\n",
      "\n",
      "Block with 24 Encoding Units: \n",
      "\n",
      "Loaded Model with input shape (None, 12)\n",
      "Median mu has been set with size (24,)\n",
      "Num Blocks: 1813\n",
      "Original Comparisons Needed: 449,404,991\n",
      "Total Comparisons 688,940 : 0.15% of original\n",
      "Avg Block Size: 380.00\n",
      "Max Block Size: 121,905\n",
      "Min Block Size: 1\n",
      "Balance Score (1=even sizes): 0.000008\n",
      "Num Matches Found 3320 Out Of 4320 (76.85%)\n",
      "Num blocks containing matches 1305, (71.98%)\n",
      "\n",
      "\n"
     ]
    }
   ],
   "source": [
    "# Dense Letter Encoding\n",
    "latent_dims = [2,4,8,16,24]\n",
    "for dim in latent_dims:\n",
    "    print('Block with {} Encoding Units: \\n'.format(dim))\n",
    "    model_path = '/Users/kailinlu/Desktop/QMSSWork/RecordLinking/models/dense_letter_{}_iowa_last/encoder.h5'.format(dim)\n",
    "    blocker = Blocker(dfA=names_1915,\n",
    "                      dfB=names_1940)\n",
    "\n",
    "    blocks = blocker.block(autoencoder_col='lname1915',\n",
    "                                     autoencoder_colB='lname1940', \n",
    "                                     autoencoder_model_path=model_path)\n",
    "    blocker.compute_block_metrics(match_indexA=indexA, match_indexB=indexB)\n",
    "    print('\\n')"
   ]
  },
  {
   "cell_type": "code",
   "execution_count": 21,
   "metadata": {},
   "outputs": [
    {
     "name": "stdout",
     "output_type": "stream",
     "text": [
      "Block with 2 Encoding Units: \n",
      "\n",
      "Loaded Model with input shape (None, 12)\n",
      "Median mu has been set with size (2,)\n",
      "Num Blocks: 4\n",
      "Original Comparisons Needed: 449404991\n",
      "Total Comparisons 123,255,073, 27.43% of original\n",
      "Avg Block Size: 30,813,768.25\n",
      "Max Block Size: 51,533,307\n",
      "Min Block Size: 11,298,976\n",
      "Balance Score (1=even sizes): 0.219256\n",
      "Num Matches Found 3989 Out Of 4320 (92.34%)\n",
      "Num blocks containing matches 4, (100.00%)\n",
      "\n",
      "\n",
      "Block with 4 Encoding Units: \n",
      "\n",
      "Loaded Model with input shape (None, 12)\n",
      "Median mu has been set with size (4,)\n",
      "Num Blocks: 16\n",
      "Original Comparisons Needed: 449404991\n",
      "Total Comparisons 34,618,546, 7.70% of original\n",
      "Avg Block Size: 2,163,659.12\n",
      "Max Block Size: 9,823,753\n",
      "Min Block Size: 294,084\n",
      "Balance Score (1=even sizes): 0.029936\n",
      "Num Matches Found 3707 Out Of 4320 (85.81%)\n",
      "Num blocks containing matches 16, (100.00%)\n",
      "\n",
      "\n",
      "Block with 8 Encoding Units: \n",
      "\n",
      "Loaded Model with input shape (None, 12)\n",
      "Median mu has been set with size (8,)\n",
      "Num Blocks: 220\n",
      "Original Comparisons Needed: 449404991\n",
      "Total Comparisons 4,655,386, 1.04% of original\n",
      "Avg Block Size: 21,160.85\n",
      "Max Block Size: 537,309\n",
      "Min Block Size: 1\n",
      "Balance Score (1=even sizes): 0.000002\n",
      "Num Matches Found 3493 Out Of 4320 (80.86%)\n",
      "Num blocks containing matches 208, (94.55%)\n",
      "\n",
      "\n"
     ]
    }
   ],
   "source": [
    "# Dense Letter Encoding with more complex encoder\n",
    "latent_dims = [2,4,8]\n",
    "for dim in latent_dims:\n",
    "    print('Block with {} Encoding Units: \\n'.format(dim))\n",
    "    model_path = '/Users/kailinlu/Desktop/QMSSWork/RecordLinking/models/dense_letter_{}_iowa_last_smaller_decoder/encoder.h5'.format(dim)\n",
    "    blocker = Blocker(dfA=names_1915,\n",
    "                      dfB=names_1940)\n",
    "\n",
    "    blocks = blocker.block(autoencoder_col='lname1915',\n",
    "                           autoencoder_colB='lname1940', \n",
    "                           autoencoder_model_path=model_path)\n",
    "    blocker.compute_block_metrics(match_indexA=indexA, match_indexB=indexB)\n",
    "    print('\\n')"
   ]
  },
  {
   "cell_type": "code",
   "execution_count": 22,
   "metadata": {},
   "outputs": [
    {
     "name": "stdout",
     "output_type": "stream",
     "text": [
      "Block with 2 Encoding Units: \n",
      "\n",
      "Loaded Model with input shape (None, 12)\n",
      "Median mu has been set with size (2,)\n",
      "Num Blocks: 4\n",
      "Original Comparisons Needed: 449404991\n",
      "Total Comparisons 113,496,917, 25.25% of original\n",
      "Avg Block Size: 28,374,229.25\n",
      "Max Block Size: 35,521,395\n",
      "Min Block Size: 21,001,661\n",
      "Balance Score (1=even sizes): 0.591240\n",
      "Num Matches Found 3926 Out Of 4320 (90.88%)\n",
      "Num blocks containing matches 4, (100.00%)\n",
      "\n",
      "\n",
      "Block with 4 Encoding Units: \n",
      "\n",
      "Loaded Model with input shape (None, 12)\n",
      "Median mu has been set with size (4,)\n",
      "Num Blocks: 14\n",
      "Original Comparisons Needed: 449404991\n",
      "Total Comparisons 42,665,714, 9.49% of original\n",
      "Avg Block Size: 3,047,551.00\n",
      "Max Block Size: 10,514,088\n",
      "Min Block Size: 4,128\n",
      "Balance Score (1=even sizes): 0.000393\n",
      "Num Matches Found 3749 Out Of 4320 (86.78%)\n",
      "Num blocks containing matches 14, (100.00%)\n",
      "\n",
      "\n",
      "Block with 8 Encoding Units: \n",
      "\n",
      "Loaded Model with input shape (None, 12)\n",
      "Median mu has been set with size (8,)\n",
      "Num Blocks: 103\n",
      "Original Comparisons Needed: 449404991\n",
      "Total Comparisons 9,407,062, 2.09% of original\n",
      "Avg Block Size: 91,330.70\n",
      "Max Block Size: 843,300\n",
      "Min Block Size: 12\n",
      "Balance Score (1=even sizes): 0.000014\n",
      "Num Matches Found 3561 Out Of 4320 (82.43%)\n",
      "Num blocks containing matches 97, (94.17%)\n",
      "\n",
      "\n",
      "Block with 16 Encoding Units: \n",
      "\n",
      "Loaded Model with input shape (None, 12)\n",
      "Median mu has been set with size (16,)\n",
      "Num Blocks: 760\n",
      "Original Comparisons Needed: 449404991\n",
      "Total Comparisons 1,867,673, 0.42% of original\n",
      "Avg Block Size: 2,457.46\n",
      "Max Block Size: 358,224\n",
      "Min Block Size: 1\n",
      "Balance Score (1=even sizes): 0.000003\n",
      "Num Matches Found 3404 Out Of 4320 (78.80%)\n",
      "Num blocks containing matches 627, (82.50%)\n",
      "\n",
      "\n",
      "Block with 24 Encoding Units: \n",
      "\n",
      "Loaded Model with input shape (None, 12)\n",
      "Median mu has been set with size (24,)\n",
      "Num Blocks: 1578\n",
      "Original Comparisons Needed: 449404991\n",
      "Total Comparisons 839,631, 0.19% of original\n",
      "Avg Block Size: 532.09\n",
      "Max Block Size: 126,685\n",
      "Min Block Size: 1\n",
      "Balance Score (1=even sizes): 0.000008\n",
      "Num Matches Found 3362 Out Of 4320 (77.82%)\n",
      "Num blocks containing matches 1148, (72.75%)\n",
      "\n",
      "\n"
     ]
    }
   ],
   "source": [
    "# Dense Shingle Encoding\n",
    "latent_dims = [2,4,8,16,24]\n",
    "\n",
    "for dim in latent_dims:\n",
    "    print('Block with {} Encoding Units: \\n'.format(dim))\n",
    "    model_path = '/Users/kailinlu/Desktop/QMSSWork/RecordLinking/models/dense_shingle_{}_iowa_last/encoder.h5'.format(dim)\n",
    "    blocker = Blocker(dfA=names_1915,\n",
    "                      dfB=names_1940)\n",
    "\n",
    "    blocks = blocker.block(autoencoder_col='lname1915',\n",
    "                                     autoencoder_colB='lname1940', \n",
    "                                     autoencoder_model_path=model_path, \n",
    "                                     autoencoder_embedtype='shingles')\n",
    "    blocker.compute_block_metrics(match_indexA=indexA, match_indexB=indexB)\n",
    "    print('\\n')"
   ]
  },
  {
   "cell_type": "markdown",
   "metadata": {},
   "source": [
    "#### Union Army"
   ]
  },
  {
   "cell_type": "code",
   "execution_count": 31,
   "metadata": {},
   "outputs": [],
   "source": [
    "# Dense letter encoding \n",
    "# latent_dims = [2,4,8,16,24]\n",
    "# for dim in latent_dims:\n",
    "#     print('Block with {} Encoding Units: \\n'.format(dim))\n",
    "#     model_path = '/Users/kailinlu/Desktop/QMSSWork/RecordLinking/models/dense_letter_{}_union_first/encoder.h5'.format(dim)\n",
    "    \n",
    "#     blocker = Blocker(dfA=union_namesA,\n",
    "#                       dfB=union_namesB)\n",
    "\n",
    "#     blocks = blocker.block(autoencoder_col='first1',\n",
    "#                                      autoencoder_colB='first2', \n",
    "#                                      autoencoder_model_path=model_path)\n",
    "#     blocker.compute_block_metrics(match_indexA=union_indexA, match_indexB=union_indexB)\n",
    "#     print('\\n')"
   ]
  },
  {
   "cell_type": "code",
   "execution_count": 24,
   "metadata": {},
   "outputs": [
    {
     "name": "stdout",
     "output_type": "stream",
     "text": [
      "Block with 2 Encoding Units: \n",
      "\n",
      "Loaded Model with input shape (None, 12)\n",
      "Median mu has been set with size (2,)\n",
      "Num Blocks: 4\n",
      "Original Comparisons Needed: 1944633604\n",
      "Total Comparisons 579,922,683, 29.82% of original\n",
      "Avg Block Size: 144,980,670.75\n",
      "Max Block Size: 255,782,922\n",
      "Min Block Size: 33,867,996\n",
      "Balance Score (1=even sizes): 0.132409\n",
      "Num Matches Found 38283 Out Of 44098 (86.81%)\n",
      "Num blocks containing matches 4, (100.00%)\n",
      "\n",
      "\n",
      "Block with 4 Encoding Units: \n",
      "\n",
      "Loaded Model with input shape (None, 12)\n",
      "Median mu has been set with size (4,)\n",
      "Num Blocks: 16\n",
      "Original Comparisons Needed: 1944633604\n",
      "Total Comparisons 149,086,137, 7.67% of original\n",
      "Avg Block Size: 9,317,883.56\n",
      "Max Block Size: 29,089,970\n",
      "Min Block Size: 932,715\n",
      "Balance Score (1=even sizes): 0.032063\n",
      "Num Matches Found 36552 Out Of 44098 (82.89%)\n",
      "Num blocks containing matches 16, (100.00%)\n",
      "\n",
      "\n",
      "Block with 8 Encoding Units: \n",
      "\n",
      "Loaded Model with input shape (None, 12)\n",
      "Median mu has been set with size (8,)\n",
      "Num Blocks: 103\n",
      "Original Comparisons Needed: 1944633604\n",
      "Total Comparisons 90,271,214, 4.64% of original\n",
      "Avg Block Size: 876,419.55\n",
      "Max Block Size: 37,996,992\n",
      "Min Block Size: 1\n",
      "Balance Score (1=even sizes): 0.000000\n",
      "Num Matches Found 35629 Out Of 44098 (80.80%)\n",
      "Num blocks containing matches 101, (98.06%)\n",
      "\n",
      "\n",
      "Block with 16 Encoding Units: \n",
      "\n",
      "Loaded Model with input shape (None, 12)\n",
      "Median mu has been set with size (16,)\n",
      "Num Blocks: 758\n",
      "Original Comparisons Needed: 1944633604\n",
      "Total Comparisons 36,668,224, 1.89% of original\n",
      "Avg Block Size: 48,374.97\n",
      "Max Block Size: 9,705,888\n",
      "Min Block Size: 1\n",
      "Balance Score (1=even sizes): 0.000000\n",
      "Num Matches Found 34754 Out Of 44098 (78.81%)\n",
      "Num blocks containing matches 684, (90.24%)\n",
      "\n",
      "\n",
      "Block with 24 Encoding Units: \n",
      "\n",
      "Loaded Model with input shape (None, 12)\n",
      "Median mu has been set with size (24,)\n",
      "Num Blocks: 1693\n",
      "Original Comparisons Needed: 1944633604\n",
      "Total Comparisons 35,475,069, 1.82% of original\n",
      "Avg Block Size: 20,953.97\n",
      "Max Block Size: 10,949,376\n",
      "Min Block Size: 1\n",
      "Balance Score (1=even sizes): 0.000000\n",
      "Num Matches Found 34253 Out Of 44098 (77.67%)\n",
      "Num blocks containing matches 1488, (87.89%)\n",
      "\n",
      "\n"
     ]
    }
   ],
   "source": [
    "# Dense shingle encoding \n",
    "latent_dims = [2,4,8,16,24]\n",
    "\n",
    "for dim in latent_dims:\n",
    "    print('Block with {} Encoding Units: \\n'.format(dim))\n",
    "    model_path = '/Users/kailinlu/Desktop/QMSSWork/RecordLinking/models/dense_shingle_{}_union_first/encoder.h5'.format(dim)\n",
    "    \n",
    "    blocker = Blocker(dfA=union_namesA,\n",
    "                      dfB=union_namesB)\n",
    "\n",
    "    blocks = blocker.block(autoencoder_col='first1',\n",
    "                                     autoencoder_colB='first2', \n",
    "                                     autoencoder_model_path=model_path, \n",
    "                                     autoencoder_embedtype='shingles')\n",
    "    blocker.compute_block_metrics(match_indexA=union_indexA, match_indexB=union_indexB)\n",
    "    print('\\n')"
   ]
  },
  {
   "cell_type": "code",
   "execution_count": 25,
   "metadata": {},
   "outputs": [
    {
     "name": "stdout",
     "output_type": "stream",
     "text": [
      "Block with 4 Encoding Units: \n",
      "\n",
      "Loaded Model with input shape (None, 12, 28)\n",
      "Median mu has been set with size (4,)\n",
      "Num Blocks: 16\n",
      "Original Comparisons Needed: 1944633604\n",
      "Total Comparisons 198,615,459, 10.21% of original\n",
      "Avg Block Size: 12,413,466.19\n",
      "Max Block Size: 55,790,238\n",
      "Min Block Size: 1,584\n",
      "Balance Score (1=even sizes): 0.000028\n",
      "Num Matches Found 38496 Out Of 44098 (87.30%)\n",
      "Num blocks containing matches 16, (100.00%)\n",
      "\n",
      "\n",
      "Block with 8 Encoding Units: \n",
      "\n",
      "Loaded Model with input shape (None, 12, 28)\n",
      "Median mu has been set with size (8,)\n",
      "Num Blocks: 227\n",
      "Original Comparisons Needed: 1944633604\n",
      "Total Comparisons 36,401,880, 1.87% of original\n",
      "Avg Block Size: 160,360.70\n",
      "Max Block Size: 12,624,675\n",
      "Min Block Size: 1\n",
      "Balance Score (1=even sizes): 0.000000\n",
      "Num Matches Found 35756 Out Of 44098 (81.08%)\n",
      "Num blocks containing matches 221, (97.36%)\n",
      "\n",
      "\n",
      "Block with 16 Encoding Units: \n",
      "\n",
      "Loaded Model with input shape (None, 12, 28)\n",
      "Median mu has been set with size (16,)\n",
      "Num Blocks: 3003\n",
      "Original Comparisons Needed: 1944633604\n",
      "Total Comparisons 25,661,875, 1.32% of original\n",
      "Avg Block Size: 8,545.41\n",
      "Max Block Size: 9,637,435\n",
      "Min Block Size: 1\n",
      "Balance Score (1=even sizes): 0.000000\n",
      "Num Matches Found 34074 Out Of 44098 (77.27%)\n",
      "Num blocks containing matches 2629, (87.55%)\n",
      "\n",
      "\n",
      "Block with 24 Encoding Units: \n",
      "\n",
      "Loaded Model with input shape (None, 12, 28)\n",
      "Median mu has been set with size (24,)\n",
      "Num Blocks: 4093\n",
      "Original Comparisons Needed: 1944633604\n",
      "Total Comparisons 24,701,779, 1.27% of original\n",
      "Avg Block Size: 6,035.13\n",
      "Max Block Size: 9,637,435\n",
      "Min Block Size: 1\n",
      "Balance Score (1=even sizes): 0.000000\n",
      "Num Matches Found 33333 Out Of 44098 (75.59%)\n",
      "Num blocks containing matches 3750, (91.62%)\n",
      "\n",
      "\n"
     ]
    }
   ],
   "source": [
    "# LSTM encoding \n",
    "latent_dims = [4,8,16,24]\n",
    "\n",
    "for dim in latent_dims:\n",
    "    print('Block with {} Encoding Units: \\n'.format(dim))\n",
    "    model_path = '/Users/kailinlu/Desktop/QMSSWork/RecordLinking/models/lstm_letter_{}_union_first/encoder.h5'.format(dim)\n",
    "    \n",
    "    blocker = Blocker(dfA=union_namesA,\n",
    "                      dfB=union_namesB)\n",
    "\n",
    "    blocks = blocker.block(autoencoder_col='first1',\n",
    "                                     autoencoder_colB='first2', \n",
    "                                     autoencoder_model_path=model_path)\n",
    "    blocker.compute_block_metrics(match_indexA=union_indexA, match_indexB=union_indexB)\n",
    "    print('\\n')"
   ]
  },
  {
   "cell_type": "markdown",
   "metadata": {},
   "source": [
    "### Blocking with Timeframe"
   ]
  },
  {
   "cell_type": "code",
   "execution_count": 25,
   "metadata": {},
   "outputs": [
    {
     "name": "stdout",
     "output_type": "stream",
     "text": [
      "Num Blocks: 15\n",
      "Original Comparisons Needed: 449,404,991\n",
      "Total Comparisons 127,937,823 : 28.47% of original\n",
      "Avg Block Size: 8,529,188.20\n",
      "Max Block Size: 10,058,491\n",
      "Min Block Size: 5,730,654\n",
      "Balance Score (1=even sizes): 0.569733\n",
      "Num Matches Found 4207 Out Of 4320 (97.38%)\n",
      "Num blocks containing matches 15, (100.00%)\n"
     ]
    }
   ],
   "source": [
    "blocker = Blocker(dfA=names_1915,\n",
    "                  dfB=names_1940)\n",
    "\n",
    "blocks = blocker.block(timeframe_col='yob1915',\n",
    "                       timeframe_colB='yob1940',\n",
    "                       timeframe_range=2)\n",
    "blocker.compute_block_metrics(match_indexA=indexA, match_indexB=indexB)"
   ]
  },
  {
   "cell_type": "code",
   "execution_count": 29,
   "metadata": {},
   "outputs": [
    {
     "name": "stdout",
     "output_type": "stream",
     "text": [
      "Num Blocks: 1\n",
      "Original Comparisons Needed: 449,404,991\n",
      "Total Comparisons 449,404,991 : 100.00% of original\n",
      "Avg Block Size: 449,404,991.00\n",
      "Max Block Size: 449,404,991\n",
      "Min Block Size: 449,404,991\n",
      "Balance Score (1=even sizes): 1.000000\n",
      "Num Matches Found 4320 Out Of 4320 (100.00%)\n",
      "Num blocks containing matches 1, (100.00%)\n"
     ]
    }
   ],
   "source": [
    "blocker = Blocker(dfA=names_1915,\n",
    "                  dfB=names_1940)\n",
    "\n",
    "blocks = blocker.block(timeframe_col='yob1915',\n",
    "                     timeframe_colB='yob1940',\n",
    "                     timeframe_range=1)\n",
    "blocker.compute_block_metrics(match_indexA=indexA, match_indexB=indexB)"
   ]
  },
  {
   "cell_type": "code",
   "execution_count": 78,
   "metadata": {},
   "outputs": [
    {
     "name": "stdout",
     "output_type": "stream",
     "text": [
      "Num Blocks: 15\n",
      "Original Comparisons Needed: 449404991\n",
      "Total Comparisons 26,261,907, 5.84% of original\n",
      "Avg Block Size: 1,750,793.80\n",
      "Max Block Size: 2,058,255\n",
      "Min Block Size: 1,233,408\n",
      "Balance Score (1=even sizes): 0.599249\n",
      "Num Matches Found 2631 Out Of 4320 (60.90%)\n",
      "Num blocks containing matches 15, (100.00%)\n"
     ]
    }
   ],
   "source": [
    "blocker = Blocker(dfA=names_1915,\n",
    "                  dfB=names_1940)\n",
    "\n",
    "blocks = blocker.block(timeframe_col='yob1915',\n",
    "                       timeframe_colB='yob1940',\n",
    "                       timeframe_range=0)\n",
    "blocker.compute_block_metrics(match_indexA=indexA, match_indexB=indexB)"
   ]
  },
  {
   "cell_type": "markdown",
   "metadata": {},
   "source": [
    "### Blocking with Autoencoder and Timeframe"
   ]
  },
  {
   "cell_type": "code",
   "execution_count": 99,
   "metadata": {},
   "outputs": [
    {
     "name": "stdout",
     "output_type": "stream",
     "text": [
      "LSTM encoder with 2 latent dim within two years \n",
      "\n",
      "Loaded Model with input shape (None, 12, 28)\n",
      "Median mu has been set with size (2,)\n",
      "Finished blocking with autoencoder in 14.5841 s\n",
      "Finished blocking on timerange in 22.131389 s\n",
      "Num Blocks: 56\n",
      "Original Comparisons Needed: 449,404,991\n",
      "Total Comparisons 63,128,942 : 14.05% of original\n",
      "Avg Block Size: 1,127,302.54\n",
      "Max Block Size: 2,649,052\n",
      "Min Block Size: 25\n",
      "Balance Score (1=even sizes): 0.000009\n",
      "Num Matches Found 4064 Out Of 4320 (94.07%)\n",
      "Num blocks containing matches 51, (91.07%)\n",
      "\n",
      "\n",
      "LSTM encoder with 4 latent dim within two years \n",
      "\n",
      "Loaded Model with input shape (None, 12, 28)\n",
      "Median mu has been set with size (4,)\n",
      "Finished blocking with autoencoder in 14.1891 s\n",
      "Finished blocking on timerange in 21.263545 s\n",
      "Num Blocks: 148\n",
      "Original Comparisons Needed: 449,404,991\n",
      "Total Comparisons 95,383,679 : 21.22% of original\n",
      "Avg Block Size: 467,567.05\n",
      "Max Block Size: 2,649,052\n",
      "Min Block Size: 1\n",
      "Balance Score (1=even sizes): 0.000000\n",
      "Num Matches Found 3919 Out Of 4320 (90.72%)\n",
      "Num blocks containing matches 127, (85.81%)\n",
      "\n",
      "\n",
      "LSTM encoder with 8 latent dim within two years \n",
      "\n",
      "Loaded Model with input shape (None, 12, 28)\n",
      "Median mu has been set with size (8,)\n",
      "Finished blocking with autoencoder in 15.4566 s\n",
      "Finished blocking on timerange in 19.853529 s\n",
      "Num Blocks: 2044\n",
      "Original Comparisons Needed: 449,404,991\n",
      "Total Comparisons 96,636,216 : 21.50% of original\n",
      "Avg Block Size: 42,987.64\n",
      "Max Block Size: 2,649,052\n",
      "Min Block Size: 1\n",
      "Balance Score (1=even sizes): 0.000000\n",
      "Num Matches Found 3583 Out Of 4320 (82.94%)\n",
      "Num blocks containing matches 1596, (78.08%)\n",
      "\n",
      "\n",
      "LSTM encoder with 16 latent dim within two years \n",
      "\n",
      "Loaded Model with input shape (None, 12, 28)\n",
      "Median mu has been set with size (16,)\n",
      "Finished blocking with autoencoder in 15.4900 s\n",
      "Finished blocking on timerange in 7.163305 s\n",
      "Num Blocks: 5013\n",
      "Original Comparisons Needed: 449,404,991\n",
      "Total Comparisons 96,818,625 : 21.54% of original\n",
      "Avg Block Size: 13,334.06\n",
      "Max Block Size: 2,649,052\n",
      "Min Block Size: 1\n",
      "Balance Score (1=even sizes): 0.000000\n",
      "Num Matches Found 3305 Out Of 4320 (76.50%)\n",
      "Num blocks containing matches 2991, (59.66%)\n",
      "\n",
      "\n",
      "LSTM encoder with 24 latent dim within two years \n",
      "\n",
      "Loaded Model with input shape (None, 12, 28)\n",
      "Median mu has been set with size (24,)\n",
      "Finished blocking with autoencoder in 15.5467 s\n",
      "Finished blocking on timerange in 5.781514 s\n",
      "Num Blocks: 4543\n",
      "Original Comparisons Needed: 449,404,991\n",
      "Total Comparisons 96,979,546 : 21.58% of original\n",
      "Avg Block Size: 8,215.82\n",
      "Max Block Size: 2,649,052\n",
      "Min Block Size: 1\n",
      "Balance Score (1=even sizes): 0.000000\n",
      "Num Matches Found 3210 Out Of 4320 (74.31%)\n",
      "Num blocks containing matches 2946, (64.85%)\n",
      "\n",
      "\n"
     ]
    }
   ],
   "source": [
    "blocker = Blocker(dfA=names_1915,\n",
    "                  dfB=names_1940)\n",
    "\n",
    "latent_dim = [2,4,8,16,24]\n",
    "for dim in latent_dim:\n",
    "    print('LSTM encoder with {} latent dim within two years \\n'.format(dim))\n",
    "    model_path = '/Users/kailinlu/Desktop/QMSSWork/RecordLinking/models/lstm_letter_{}_iowa_last/encoder.h5'.format(dim)\n",
    "    blocks = blocker.block(autoencoder_col='lname1915', \n",
    "                           autoencoder_colB='lname1940', \n",
    "                           autoencoder_model_path=model_path, \n",
    "                           timeframe_col='yob1915', \n",
    "                           timeframe_colB='yob1940',\n",
    "                           timeframe_range=2)\n",
    "    blocker.compute_block_metrics(match_indexA=indexA, match_indexB=indexB)\n",
    "    print('\\n')"
   ]
  },
  {
   "cell_type": "code",
   "execution_count": 100,
   "metadata": {},
   "outputs": [
    {
     "name": "stdout",
     "output_type": "stream",
     "text": [
      "LSTM encoder with 2 latent dim within one year \n",
      "\n",
      "Loaded Model with input shape (None, 12, 28)\n",
      "Median mu has been set with size (2,)\n",
      "Finished blocking with autoencoder in 14.7475 s\n",
      "Finished blocking on timerange in 20.471843 s\n",
      "Num Blocks: 56\n",
      "Original Comparisons Needed: 449,404,991\n",
      "Total Comparisons 38,481,420 : 8.56% of original\n",
      "Avg Block Size: 687,168.21\n",
      "Max Block Size: 1,653,456\n",
      "Min Block Size: 12\n",
      "Balance Score (1=even sizes): 0.000007\n",
      "Num Matches Found 3829 Out Of 4320 (88.63%)\n",
      "Num blocks containing matches 51, (91.07%)\n",
      "\n",
      "\n",
      "LSTM encoder with 4 latent dim within one year \n",
      "\n",
      "Loaded Model with input shape (None, 12, 28)\n",
      "Median mu has been set with size (4,)\n",
      "Finished blocking with autoencoder in 16.0071 s\n",
      "Finished blocking on timerange in 21.107264 s\n",
      "Num Blocks: 147\n",
      "Original Comparisons Needed: 449,404,991\n",
      "Total Comparisons 58,136,403 : 12.94% of original\n",
      "Avg Block Size: 286,386.22\n",
      "Max Block Size: 1,653,456\n",
      "Min Block Size: 2\n",
      "Balance Score (1=even sizes): 0.000001\n",
      "Num Matches Found 3690 Out Of 4320 (85.42%)\n",
      "Num blocks containing matches 126, (85.71%)\n",
      "\n",
      "\n",
      "LSTM encoder with 8 latent dim within one year \n",
      "\n",
      "Loaded Model with input shape (None, 12, 28)\n",
      "Median mu has been set with size (8,)\n",
      "Finished blocking with autoencoder in 15.6869 s\n",
      "Finished blocking on timerange in 20.403789 s\n",
      "Num Blocks: 2040\n",
      "Original Comparisons Needed: 449,404,991\n",
      "Total Comparisons 58,901,629 : 13.11% of original\n",
      "Avg Block Size: 26,260.20\n",
      "Max Block Size: 1,653,456\n",
      "Min Block Size: 1\n",
      "Balance Score (1=even sizes): 0.000001\n",
      "Num Matches Found 3370 Out Of 4320 (78.01%)\n",
      "Num blocks containing matches 1561, (76.52%)\n",
      "\n",
      "\n",
      "LSTM encoder with 16 latent dim within one year \n",
      "\n",
      "Loaded Model with input shape (None, 12, 28)\n",
      "Median mu has been set with size (16,)\n",
      "Finished blocking with autoencoder in 15.8667 s\n",
      "Finished blocking on timerange in 7.330777 s\n",
      "Num Blocks: 4692\n",
      "Original Comparisons Needed: 449,404,991\n",
      "Total Comparisons 59,013,923 : 13.13% of original\n",
      "Avg Block Size: 8,509.58\n",
      "Max Block Size: 1,653,456\n",
      "Min Block Size: 1\n",
      "Balance Score (1=even sizes): 0.000001\n",
      "Num Matches Found 3106 Out Of 4320 (71.90%)\n",
      "Num blocks containing matches 2831, (60.34%)\n",
      "\n",
      "\n",
      "LSTM encoder with 24 latent dim within one year \n",
      "\n",
      "Loaded Model with input shape (None, 12, 28)\n",
      "Median mu has been set with size (24,)\n",
      "Finished blocking with autoencoder in 15.3673 s\n",
      "Finished blocking on timerange in 5.786971 s\n",
      "Num Blocks: 4211\n",
      "Original Comparisons Needed: 449,404,991\n",
      "Total Comparisons 59,113,160 : 13.15% of original\n",
      "Avg Block Size: 5,303.53\n",
      "Max Block Size: 1,653,456\n",
      "Min Block Size: 1\n",
      "Balance Score (1=even sizes): 0.000001\n",
      "Num Matches Found 3014 Out Of 4320 (69.77%)\n",
      "Num blocks containing matches 2784, (66.11%)\n",
      "\n",
      "\n"
     ]
    }
   ],
   "source": [
    "blocker = Blocker(dfA=names_1915,\n",
    "                  dfB=names_1940)\n",
    "\n",
    "latent_dim = [2,4,8,16,24]\n",
    "for dim in latent_dim:\n",
    "    print('LSTM encoder with {} latent dim within one year \\n'.format(dim))\n",
    "    model_path = '/Users/kailinlu/Desktop/QMSSWork/RecordLinking/models/lstm_letter_{}_iowa_last/encoder.h5'.format(dim)\n",
    "    blocks = blocker.block(autoencoder_col='lname1915', \n",
    "                           autoencoder_colB='lname1940', \n",
    "                           autoencoder_model_path=model_path, \n",
    "                           timeframe_col='yob1915', \n",
    "                           timeframe_colB='yob1940',\n",
    "                           timeframe_range=1)\n",
    "    blocker.compute_block_metrics(match_indexA=indexA, match_indexB=indexB)\n",
    "    print('\\n')"
   ]
  },
  {
   "cell_type": "code",
   "execution_count": 101,
   "metadata": {},
   "outputs": [
    {
     "name": "stdout",
     "output_type": "stream",
     "text": [
      "LSTM encoder with 2 latent dim within same year \n",
      "\n",
      "Loaded Model with input shape (None, 12, 28)\n",
      "Median mu has been set with size (2,)\n",
      "Finished blocking with autoencoder in 15.6038 s\n",
      "Finished blocking on timerange in 21.431666 s\n",
      "Num Blocks: 56\n",
      "Original Comparisons Needed: 449,404,991\n",
      "Total Comparisons 12,961,343 : 2.88% of original\n",
      "Avg Block Size: 231,452.55\n",
      "Max Block Size: 546,749\n",
      "Min Block Size: 3\n",
      "Balance Score (1=even sizes): 0.000005\n",
      "Num Matches Found 2541 Out Of 4320 (58.82%)\n",
      "Num blocks containing matches 48, (85.71%)\n",
      "\n",
      "\n",
      "LSTM encoder with 4 latent dim within same year \n",
      "\n",
      "Loaded Model with input shape (None, 12, 28)\n",
      "Median mu has been set with size (4,)\n",
      "Finished blocking with autoencoder in 16.2535 s\n",
      "Finished blocking on timerange in 20.701992 s\n",
      "Num Blocks: 146\n",
      "Original Comparisons Needed: 449,404,991\n",
      "Total Comparisons 19,582,864 : 4.36% of original\n",
      "Avg Block Size: 96,944.87\n",
      "Max Block Size: 546,749\n",
      "Min Block Size: 1\n",
      "Balance Score (1=even sizes): 0.000002\n",
      "Num Matches Found 2446 Out Of 4320 (56.62%)\n",
      "Num blocks containing matches 118, (80.82%)\n",
      "\n",
      "\n",
      "LSTM encoder with 8 latent dim within same year \n",
      "\n",
      "Loaded Model with input shape (None, 12, 28)\n",
      "Median mu has been set with size (8,)\n",
      "Finished blocking with autoencoder in 14.8829 s\n",
      "Finished blocking on timerange in 19.842309 s\n",
      "Num Blocks: 2014\n",
      "Original Comparisons Needed: 449,404,991\n",
      "Total Comparisons 19,842,015 : 4.42% of original\n",
      "Avg Block Size: 8,953.98\n",
      "Max Block Size: 546,749\n",
      "Min Block Size: 1\n",
      "Balance Score (1=even sizes): 0.000002\n",
      "Num Matches Found 2260 Out Of 4320 (52.31%)\n",
      "Num blocks containing matches 1295, (64.30%)\n",
      "\n",
      "\n",
      "LSTM encoder with 16 latent dim within same year \n",
      "\n",
      "Loaded Model with input shape (None, 12, 28)\n",
      "Median mu has been set with size (16,)\n",
      "Finished blocking with autoencoder in 15.7091 s\n",
      "Finished blocking on timerange in 6.303165 s\n",
      "Num Blocks: 3589\n",
      "Original Comparisons Needed: 449,404,991\n",
      "Total Comparisons 19,881,082 : 4.42% of original\n",
      "Avg Block Size: 3,424.82\n",
      "Max Block Size: 546,749\n",
      "Min Block Size: 1\n",
      "Balance Score (1=even sizes): 0.000002\n",
      "Num Matches Found 2075 Out Of 4320 (48.03%)\n",
      "Num blocks containing matches 1945, (54.19%)\n",
      "\n",
      "\n",
      "LSTM encoder with 24 latent dim within same year \n",
      "\n",
      "Loaded Model with input shape (None, 12, 28)\n",
      "Median mu has been set with size (24,)\n",
      "Finished blocking with autoencoder in 17.5655 s\n",
      "Finished blocking on timerange in 6.145726 s\n",
      "Num Blocks: 3126\n",
      "Original Comparisons Needed: 449,404,991\n",
      "Total Comparisons 19,915,619 : 4.43% of original\n",
      "Avg Block Size: 2,229.94\n",
      "Max Block Size: 546,749\n",
      "Min Block Size: 1\n",
      "Balance Score (1=even sizes): 0.000002\n",
      "Num Matches Found 2014 Out Of 4320 (46.62%)\n",
      "Num blocks containing matches 1905, (60.94%)\n",
      "\n",
      "\n"
     ]
    }
   ],
   "source": [
    "blocker = Blocker(dfA=names_1915,\n",
    "                  dfB=names_1940)\n",
    "\n",
    "latent_dim = [2,4,8,16,24]\n",
    "for dim in latent_dim:\n",
    "    print('LSTM encoder with {} latent dim within same year \\n'.format(dim))\n",
    "    model_path = '/Users/kailinlu/Desktop/QMSSWork/RecordLinking/models/lstm_letter_{}_iowa_last/encoder.h5'.format(dim)\n",
    "    blocks = blocker.block(autoencoder_col='lname1915', \n",
    "                           autoencoder_colB='lname1940', \n",
    "                           autoencoder_model_path=model_path, \n",
    "                           timeframe_col='yob1915', \n",
    "                           timeframe_colB='yob1940',\n",
    "                           timeframe_range=0)\n",
    "    blocker.compute_block_metrics(match_indexA=indexA, match_indexB=indexB)\n",
    "    print('\\n')"
   ]
  }
 ],
 "metadata": {
  "kernelspec": {
   "display_name": "Python 3",
   "language": "python",
   "name": "python3"
  },
  "language_info": {
   "codemirror_mode": {
    "name": "ipython",
    "version": 3
   },
   "file_extension": ".py",
   "mimetype": "text/x-python",
   "name": "python",
   "nbconvert_exporter": "python",
   "pygments_lexer": "ipython3",
   "version": "3.6.5"
  }
 },
 "nbformat": 4,
 "nbformat_minor": 2
}
