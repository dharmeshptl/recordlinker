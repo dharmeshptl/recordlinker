{
 "cells": [
  {
   "cell_type": "code",
   "execution_count": 87,
   "metadata": {},
   "outputs": [],
   "source": [
    "import csv \n",
    "import re \n",
    "import pickle\n",
    "import random\n",
    "\n",
    "import numpy as np\n",
    "import pandas as pd\n",
    "\n",
    "import sklearn\n",
    "from sklearn import metrics\n",
    "\n",
    "import recordlinker\n",
    "from recordlinker.preprocess import create_training_set\n",
    "from recordlinker.blocking import BinaryEncoder\n",
    "\n",
    "from pyjarowinkler import distance\n",
    "\n",
    "import matplotlib.pyplot as plt\n",
    "%matplotlib inline\n",
    "\n",
    "import warnings\n",
    "warnings.filterwarnings('ignore')"
   ]
  },
  {
   "cell_type": "code",
   "execution_count": 2,
   "metadata": {
    "collapsed": true
   },
   "outputs": [],
   "source": [
    "%reload_ext autoreload\n",
    "%autoreload 2"
   ]
  },
  {
   "cell_type": "markdown",
   "metadata": {},
   "source": [
    "# Table of Contents"
   ]
  },
  {
   "cell_type": "markdown",
   "metadata": {},
   "source": [
    "### Data import and creating matches / nonmatches datasets \n",
    " - Iowa Census (1915 and 1940) \n",
    " - Union Army\n",
    " \n",
    "#### Jaro-Winkler"
   ]
  },
  {
   "cell_type": "markdown",
   "metadata": {},
   "source": [
    "# Data\n",
    "\n",
    "### Iowa \n",
    "Names from Iowa census linked between 1915 and 1940. "
   ]
  },
  {
   "cell_type": "code",
   "execution_count": 3,
   "metadata": {
    "collapsed": true
   },
   "outputs": [],
   "source": [
    "iowa_matches = pd.read_csv('/Users/kailinlu/Desktop/QMSSWork/RecordLinking/recordlinker/recordlinker/data/iowa_matches.csv')\n",
    "iowa_nonmatches = pd.read_csv('/Users/kailinlu/Desktop/QMSSWork/RecordLinking/recordlinker/recordlinker/data/iowa_nonmatches.csv')"
   ]
  },
  {
   "cell_type": "code",
   "execution_count": 4,
   "metadata": {},
   "outputs": [
    {
     "name": "stdout",
     "output_type": "stream",
     "text": [
      "<class 'pandas.core.frame.DataFrame'>\n",
      "RangeIndex: 4320 entries, 0 to 4319\n",
      "Data columns (total 11 columns):\n",
      "uid1915         4320 non-null object\n",
      "fname1915       4320 non-null object\n",
      "lname1915       4320 non-null object\n",
      "fullname1915    4320 non-null object\n",
      "yob1915         4320 non-null int64\n",
      "hhid            4320 non-null int64\n",
      "fname1940       4320 non-null object\n",
      "lname1940       4320 non-null object\n",
      "fullname1940    4320 non-null object\n",
      "yob1940         4320 non-null int64\n",
      "uid-hhid        4320 non-null object\n",
      "dtypes: int64(3), object(8)\n",
      "memory usage: 371.3+ KB\n"
     ]
    }
   ],
   "source": [
    "iowa_matches.info()"
   ]
  },
  {
   "cell_type": "markdown",
   "metadata": {},
   "source": [
    "### Union Army "
   ]
  },
  {
   "cell_type": "code",
   "execution_count": 5,
   "metadata": {
    "collapsed": true
   },
   "outputs": [],
   "source": [
    "union_matches = pd.read_csv('/Users/kailinlu/Desktop/QMSSWork/RecordLinking/recordlinker/recordlinker/data/unionarmy_matches.csv')\n",
    "union_nonmatches = pd.read_csv('/Users/kailinlu/Desktop/QMSSWork/RecordLinking/recordlinker/recordlinker/data/unionarmy_nonmatches.csv')"
   ]
  },
  {
   "cell_type": "code",
   "execution_count": 6,
   "metadata": {},
   "outputs": [
    {
     "name": "stdout",
     "output_type": "stream",
     "text": [
      "<class 'pandas.core.frame.DataFrame'>\n",
      "RangeIndex: 44098 entries, 0 to 44097\n",
      "Data columns (total 7 columns):\n",
      "recidnum    44098 non-null int64\n",
      "recname1    44098 non-null object\n",
      "recname2    44098 non-null object\n",
      "last1       44098 non-null object\n",
      "first1      44098 non-null object\n",
      "last2       44098 non-null object\n",
      "first2      44098 non-null object\n",
      "dtypes: int64(1), object(6)\n",
      "memory usage: 2.4+ MB\n"
     ]
    }
   ],
   "source": [
    "union_matches.info()"
   ]
  },
  {
   "cell_type": "code",
   "execution_count": 7,
   "metadata": {
    "collapsed": true
   },
   "outputs": [],
   "source": [
    "iowa_matches['match'] = 1\n",
    "union_matches['match'] = 1\n",
    "\n",
    "iowa_nonmatches['match'] = 0\n",
    "union_nonmatches['match'] = 0\n",
    "\n",
    "# Concatenate into one dataset for Iowa and one for Union Army \n",
    "iowa = pd.concat([iowa_matches, iowa_nonmatches])\n",
    "union = pd.concat([union_matches, union_nonmatches])"
   ]
  },
  {
   "cell_type": "markdown",
   "metadata": {},
   "source": [
    "# Distance Baseline: Jaro-Winkler"
   ]
  },
  {
   "cell_type": "code",
   "execution_count": 72,
   "metadata": {
    "collapsed": true
   },
   "outputs": [],
   "source": [
    "def hist_overlap(a, b, bins=20):\n",
    "    n,b,p = plt.hist(a, bins=bins)\n",
    "    nn,nb,npatches = plt.hist(b, bins=bins)\n",
    "    \n",
    "    n = n/len(a)\n",
    "    nn = nn/len(b)\n",
    "\n",
    "    overlap = 0 \n",
    "    for i, e in enumerate(n): \n",
    "        overlap += min(e, nn[i])  \n",
    "    return overlap"
   ]
  },
  {
   "cell_type": "code",
   "execution_count": 10,
   "metadata": {
    "collapsed": true
   },
   "outputs": [],
   "source": [
    "iowa['last-jaro-winkler'] = iowa.apply(lambda row: distance.get_jaro_distance(row.lname1915, row.lname1940), axis=1)\n",
    "iowa['first-jaro-winkler'] = iowa.apply(lambda row: distance.get_jaro_distance(row.fname1915, row.fname1940), axis=1)\n",
    "iowa['full-jaro-winkler'] = iowa.apply(lambda row: distance.get_jaro_distance(row.fullname1915, row.fullname1940), axis=1)"
   ]
  },
  {
   "cell_type": "code",
   "execution_count": 82,
   "metadata": {},
   "outputs": [
    {
     "data": {
      "text/plain": [
       "<matplotlib.text.Text at 0x124099550>"
      ]
     },
     "execution_count": 82,
     "metadata": {},
     "output_type": "execute_result"
    },
    {
     "data": {
      "image/png": "[encoded data removed]",
      "text/plain": [
       "<matplotlib.figure.Figure at 0x12361cd68>"
      ]
     },
     "metadata": {},
     "output_type": "display_data"
    }
   ],
   "source": [
    "fig, axes = plt.subplots(1,4, figsize=(20,5))\n",
    "fig.suptitle('Jaro Winkler - Iowa')\n",
    "axes[0].hist(iowa[iowa['match']==1]['last-jaro-winkler'], alpha=.5, normed=True, bins=20)\n",
    "axes[0].hist(iowa[iowa['match']==0]['last-jaro-winkler'], alpha=.5, normed=True, bins=20)\n",
    "axes[0].set_title('Last')\n",
    "axes[0].set_xlabel('Overlap = {:2f}'.format(hist_overlap(iowa[iowa['match']==1]['last-jaro-winkler'], \n",
    "                                                      iowa[iowa['match']==0]['last-jaro-winkler'])))\n",
    "\n",
    "axes[1].hist(iowa[iowa['match']==1]['first-jaro-winkler'], alpha=.5, normed=True, bins=20)\n",
    "axes[1].hist(iowa[iowa['match']==0]['first-jaro-winkler'], alpha=.5, normed=True, bins=20)\n",
    "axes[1].set_title('First')\n",
    "axes[1].set_xlabel('Overlap = {:2f}'.format(hist_overlap(iowa[iowa['match']==1]['first-jaro-winkler'], \n",
    "                                                      iowa[iowa['match']==0]['first-jaro-winkler'])))\n",
    "\n",
    "axes[2].hist(iowa[iowa['match']==1]['full-jaro-winkler'], alpha=.5, normed=True, bins=20)\n",
    "axes[2].hist(iowa[iowa['match']==0]['full-jaro-winkler'], alpha=.5, normed=True, bins=20)\n",
    "axes[2].set_title('Full')\n",
    "axes[2].set_xlabel('Overlap = {:2f}'.format(hist_overlap(iowa[iowa['match']==1]['full-jaro-winkler'], \n",
    "                                                      iowa[iowa['match']==0]['full-jaro-winkler'])))"
   ]
  },
  {
   "cell_type": "code",
   "execution_count": 102,
   "metadata": {},
   "outputs": [],
   "source": [
    "def plot_roc(dataframe, colnames, title): \n",
    "    plt.figure()\n",
    "    plt.title(title)\n",
    "    colors = ['r', 'g', 'blue', 'orange']\n",
    "    for i, col in enumerate(colnames):\n",
    "        fpr, tpr, thres = metrics.roc_curve(dataframe['match'], dataframe[col])\n",
    "        auc = metrics.auc(fpr, tpr)\n",
    "        plt.plot(fpr, tpr, color=colors[i], label = '{} AUC = {:2f}'.format(col, auc))\n",
    "    plt.legend(loc = 'lower right')\n",
    "    plt.plot([0, 1], [0, 1],linestyle='dashed', color='black')\n",
    "    plt.xlim([0, 1])\n",
    "    plt.ylim([0, 1])\n",
    "    plt.ylabel('True Positive Rate')\n",
    "    plt.xlabel('False Positive Rate')\n",
    "    plt.show()"
   ]
  },
  {
   "cell_type": "code",
   "execution_count": 103,
   "metadata": {},
   "outputs": [
    {
     "data": {
      "image/png": "[encoded data removed]",
      "text/plain": [
       "<matplotlib.figure.Figure at 0x125b3ae48>"
      ]
     },
     "metadata": {},
     "output_type": "display_data"
    }
   ],
   "source": [
    "plot_roc(iowa, ['last-jaro-winkler', 'first-jaro-winkler','full-jaro-winkler'], title='Jaro Winkler - Iowa')"
   ]
  },
  {
   "cell_type": "code",
   "execution_count": 11,
   "metadata": {
    "collapsed": true
   },
   "outputs": [],
   "source": [
    "union['last-jaro-winkler'] = union.apply(lambda row: distance.get_jaro_distance(row.last1, row.last2), axis=1)\n",
    "union['first-jaro-winkler'] = union.apply(lambda row: distance.get_jaro_distance(row.first1, row.first2), axis=1)\n",
    "union['full-jaro-winkler'] = union.apply(lambda row: distance.get_jaro_distance(row.recname1, row.recname2), axis=1)"
   ]
  },
  {
   "cell_type": "code",
   "execution_count": 83,
   "metadata": {},
   "outputs": [
    {
     "data": {
      "text/plain": [
       "<matplotlib.text.Text at 0x1248c0320>"
      ]
     },
     "execution_count": 83,
     "metadata": {},
     "output_type": "execute_result"
    },
    {
     "data": {
      "image/png": "[encoded data removed]",
      "text/plain": [
       "<matplotlib.figure.Figure at 0x123af82e8>"
      ]
     },
     "metadata": {},
     "output_type": "display_data"
    }
   ],
   "source": [
    "fig, axes = plt.subplots(1,4, figsize=(20,5))\n",
    "fig.suptitle('Jaro Winkler - Union Army')\n",
    "axes[0].hist(union[union['match']==1]['last-jaro-winkler'], alpha=.5, normed=True, bins=20)\n",
    "axes[0].hist(union[union['match']==0]['last-jaro-winkler'], alpha=.5, normed=True, bins=20)\n",
    "axes[0].set_title('Last')\n",
    "axes[0].set_xlabel('Overlap = {:2f}'.format(hist_overlap(union[union['match']==1]['last-jaro-winkler'], \n",
    "                                                      union[union['match']==0]['last-jaro-winkler'])))\n",
    "\n",
    "axes[1].hist(union[union['match']==1]['first-jaro-winkler'], alpha=.5, normed=True, bins=20)\n",
    "axes[1].hist(union[union['match']==0]['first-jaro-winkler'], alpha=.5, normed=True, bins=20)\n",
    "axes[1].set_title('First')\n",
    "axes[1].set_xlabel('Overlap = {:2f}'.format(hist_overlap(union[union['match']==1]['first-jaro-winkler'], \n",
    "                                                      union[union['match']==0]['first-jaro-winkler'])))\n",
    "\n",
    "axes[2].hist(union[union['match']==1]['full-jaro-winkler'], alpha=.5, normed=True, bins=20)\n",
    "axes[2].hist(union[union['match']==0]['full-jaro-winkler'], alpha=.5, normed=True, bins=20)\n",
    "axes[2].set_title('Full')\n",
    "axes[2].set_xlabel('Overlap = {:2f}'.format(hist_overlap(union[union['match']==1]['full-jaro-winkler'], \n",
    "                                                      union[union['match']==0]['full-jaro-winkler'])))"
   ]
  },
  {
   "cell_type": "code",
   "execution_count": 104,
   "metadata": {},
   "outputs": [
    {
     "data": {
      "image/png": "[encoded data removed]",
      "text/plain": [
       "<matplotlib.figure.Figure at 0x125b78a20>"
      ]
     },
     "metadata": {},
     "output_type": "display_data"
    }
   ],
   "source": [
    "plot_roc(union, ['last-jaro-winkler', 'first-jaro-winkler','full-jaro-winkler'], title='Jaro Winkler - Union Army')"
   ]
  },
  {
   "cell_type": "markdown",
   "metadata": {},
   "source": [
    "## Autoencoder Distance - Last Names\n",
    "\n",
    "#### Dense "
   ]
  },
  {
   "cell_type": "code",
   "execution_count": 52,
   "metadata": {
    "collapsed": true
   },
   "outputs": [],
   "source": [
    "max_length = 12\n",
    "embed_type = 'letter'\n",
    "\n",
    "iowa_train = create_training_set(iowa_matches, \n",
    "                                 'lname1915',\n",
    "                                 max_length=max_length, \n",
    "                                 embed_type='letters', \n",
    "                                 normalize=True)\n",
    "iowa_trainB = create_training_set(iowa_matches, \n",
    "                                 'lname1940',\n",
    "                                 max_length=max_length, \n",
    "                                 embed_type='letters', \n",
    "                                 normalize=True)\n",
    "\n",
    "iowa_nonmatchesA = create_training_set(iowa_nonmatches, \n",
    "                                       'lname1915',\n",
    "                                       max_length=max_length, \n",
    "                                       embed_type='letters', \n",
    "                                       normalize=True)\n",
    "\n",
    "iowa_nonmatchesB = create_training_set(iowa_nonmatches, \n",
    "                                       'lname1940',\n",
    "                                       max_length=max_length, \n",
    "                                       embed_type='letters', \n",
    "                                       normalize=True)"
   ]
  },
  {
   "cell_type": "code",
   "execution_count": 24,
   "metadata": {},
   "outputs": [
    {
     "name": "stdout",
     "output_type": "stream",
     "text": [
      "Median mu has been set with size (8,)\n"
     ]
    }
   ],
   "source": [
    "model_path = '/Users/kailinlu/Desktop/QMSSWork/RecordLinking/models/test_model/encoder.h5'\n",
    "\n",
    "dense_binary_encoder = BinaryEncoder(model_path=model_path)\n",
    "dense_binary_encoder._calculate_median_mu(iowa_train)"
   ]
  },
  {
   "cell_type": "code",
   "execution_count": 53,
   "metadata": {},
   "outputs": [],
   "source": [
    "matches_encodedA = dense_binary_encoder.binary_encode(iowa_train)\n",
    "matches_encodedB = dense_binary_encoder.binary_encode(iowa_trainB)\n",
    "\n",
    "nonmatches_encodedA = dense_binary_encoder.binary_encode(iowa_nonmatchesA)\n",
    "nonmatches_encodedB = dense_binary_encoder.binary_encode(iowa_nonmatchesB)\n",
    "\n",
    "matches_diff = np.sum(abs(matches_encodedA - matches_encodedB), axis=1)\n",
    "nonmatches_diff = np.sum(abs(nonmatches_encodedA - nonmatches_encodedB), axis=1)"
   ]
  },
  {
   "cell_type": "code",
   "execution_count": 54,
   "metadata": {},
   "outputs": [],
   "source": [
    "normalized_diff = diff / encodedA.shape[1]\n",
    "normalized_nonmatches_diff = nonmatches_diff / nonmatches_encodedA.shape[1]"
   ]
  },
  {
   "cell_type": "code",
   "execution_count": 56,
   "metadata": {},
   "outputs": [
    {
     "data": {
      "text/plain": [
       "(array([3.6914013 , 0.        , 1.98819029, 0.        , 0.        ,\n",
       "        2.83353105, 0.        , 3.59996268, 0.        , 0.        ,\n",
       "        3.73725391, 0.        , 2.14467563, 0.        , 0.        ,\n",
       "        1.51553524, 0.        , 0.40414273, 0.        , 0.08530717]),\n",
       " array([0.  , 0.05, 0.1 , 0.15, 0.2 , 0.25, 0.3 , 0.35, 0.4 , 0.45, 0.5 ,\n",
       "        0.55, 0.6 , 0.65, 0.7 , 0.75, 0.8 , 0.85, 0.9 , 0.95, 1.  ]),\n",
       " <a list of 20 Patch objects>)"
      ]
     },
     "execution_count": 56,
     "metadata": {},
     "output_type": "execute_result"
    },
    {
     "data": {
      "image/png": "[encoded data removed]",
      "text/plain": [
       "<matplotlib.figure.Figure at 0x118bd36d8>"
      ]
     },
     "metadata": {},
     "output_type": "display_data"
    }
   ],
   "source": [
    "plt.hist(normalized_diff, bins=20, normed=True)\n",
    "plt.hist(normalized_nonmatches_diff, bins=20, normed=True)"
   ]
  },
  {
   "cell_type": "markdown",
   "metadata": {},
   "source": [
    "#### Conv"
   ]
  },
  {
   "cell_type": "code",
   "execution_count": null,
   "metadata": {
    "collapsed": true
   },
   "outputs": [],
   "source": []
  },
  {
   "cell_type": "code",
   "execution_count": null,
   "metadata": {
    "collapsed": true
   },
   "outputs": [],
   "source": []
  },
  {
   "cell_type": "code",
   "execution_count": null,
   "metadata": {
    "collapsed": true
   },
   "outputs": [],
   "source": []
  },
  {
   "cell_type": "markdown",
   "metadata": {},
   "source": [
    "#### LSTM "
   ]
  },
  {
   "cell_type": "markdown",
   "metadata": {},
   "source": [
    "## Combination Distances: Product of Rankings"
   ]
  },
  {
   "cell_type": "markdown",
   "metadata": {},
   "source": [
    "## Visualizations"
   ]
  },
  {
   "cell_type": "markdown",
   "metadata": {},
   "source": [
    "# Feed Forward Variational Autoencoder "
   ]
  },
  {
   "cell_type": "code",
   "execution_count": null,
   "metadata": {
    "collapsed": true
   },
   "outputs": [],
   "source": [
    "# Matches - Try last names only \n",
    "max_length = 25\n",
    "pairs = utils.k_shingles(2)\n",
    "\n",
    "match_lnamesA = [utils.embed_shingles(name, max_length) for name in matches['lname1915']]\n",
    "match_lnamesA = [item[0] for item in match_lnamesA]\n",
    "match_lnamesA = np.vstack(match_lnamesA)\n",
    "\n",
    "match_lnamesB = [utils.embed_shingles(name, max_length) for name in matches['lname1940']]\n",
    "match_lnamesB = [item[0] for item in match_lnamesB]\n",
    "match_lnamesB = np.vstack(match_lnamesB)\n",
    "\n",
    "# Nonmatches \n",
    "nonmatch_lnamesA = [utils.embed_shingles(name, max_length) for name in nonmatches['lname1915']]\n",
    "nonmatch_lnamesA = [item[0] for item in nonmatch_lnamesA]\n",
    "nonmatch_lnamesA = np.vstack(nonmatch_lnamesA)\n",
    "\n",
    "nonmatch_lnamesB = [utils.embed_shingles(name, max_length) for name in nonmatches['lname1940']]\n",
    "nonmatch_lnamesB = [item[0] for item in nonmatch_lnamesB]\n",
    "nonmatch_lnamesB = np.vstack(nonmatch_lnamesB)"
   ]
  },
  {
   "cell_type": "code",
   "execution_count": null,
   "metadata": {},
   "outputs": [],
   "source": [
    "vae5 = VariationalAutoencoder(encode_units=[128,128],\n",
    "                              latent_units=16,\n",
    "                              seed=5555, \n",
    "                              batch_size=32, \n",
    "                              learning_rate=1e-4) \n",
    "\n",
    "training_mu5, median_mu5 = vae5.train(nonmatch_lnamesA, test=0.1, epochs=300, \n",
    "                                      model=None)"
   ]
  },
  {
   "cell_type": "code",
   "execution_count": null,
   "metadata": {},
   "outputs": [],
   "source": [
    "median_mu_path = 'vae_model/latent-units16-val-loss43.192047-lr0.0001'+'_median_mu.p'\n",
    "with open(median_mu_path, 'wb') as p: \n",
    "    pickle.dump(median_mu5, p) \n",
    "print('Saved Median Mu:', median_mu5) "
   ]
  },
  {
   "cell_type": "code",
   "execution_count": null,
   "metadata": {
    "collapsed": true
   },
   "outputs": [],
   "source": [
    "with open(median_mu_path, 'rb') as p: \n",
    "    median_mu = pickle.load(p)"
   ]
  },
  {
   "cell_type": "code",
   "execution_count": null,
   "metadata": {},
   "outputs": [],
   "source": [
    "print(median_mu)"
   ]
  },
  {
   "cell_type": "code",
   "execution_count": null,
   "metadata": {},
   "outputs": [],
   "source": [
    "def get_binary_hash(names, model_path='vae_model/latent-units16-val-loss43.192047-lr0.0001'):\n",
    "    if model_path is None:\n",
    "        model_path = self.model_path\n",
    "        median_mu = self.median_mu \n",
    "    else: \n",
    "        with open(model_path + '_median_mu.p', 'rb') as p: \n",
    "            median_mu = pickle.load(p)\n",
    "\n",
    "    tf.reset_default_graph()\n",
    "    with tf.Session() as sess:\n",
    "        saver = tf.train.import_meta_graph(model_path + '.meta')\n",
    "        saver.restore(sess, model_path)\n",
    "        input_x = sess.graph.get_tensor_by_name('inputs/input_x:0')\n",
    "        z_size = sess.graph.get_tensor_by_name('inputs/z_size:0')\n",
    "        encode_mu = sess.graph.get_tensor_by_name('encode/mu/BiasAdd:0')\n",
    "\n",
    "        # Normalize by training max\n",
    "        names_normalized = names / 729\n",
    "        # Encode\n",
    "        new_mu = sess.run(encode_mu, feed_dict={input_x: names_normalized,\n",
    "                                                z_size: len(names_normalized)})\n",
    "        # Compare to median\n",
    "        binary = []\n",
    "        for row in range(new_mu.shape[0]):\n",
    "            binary.append(np.array([1 if e >= median_mu[i] else 0 for i,e in enumerate(new_mu[row])]))\n",
    "    return np.vstack(binary)\n",
    "    \n",
    "lastname_nonmatchA_binary =  get_binary_hash(nonmatch_lnamesA)\n",
    "lastname_nonmatchB_binary = get_binary_hash(nonmatch_lnamesB)\n",
    "\n",
    "lastname_matchA_binary = get_binary_hash(match_lnamesA)\n",
    "lastname_matchB_binary = get_binary_hash(match_lnamesB)\n",
    "\n",
    "# L1\n",
    "nonmatch_distance5 = [] \n",
    "nonmatch_diff5 = lastname_nonmatchA_binary - lastname_nonmatchB_binary\n",
    "for row in range(nonmatch_diff5.shape[0]):\n",
    "    nonmatch_distance5.append(sum(abs(nonmatch_diff5[row,:])))\n",
    "\n",
    "match_distance5 = [] \n",
    "match_diff5 = lastname_matchA_binary - lastname_matchB_binary\n",
    "for row in range(match_diff5.shape[0]):\n",
    "    match_distance5.append(sum(abs(match_diff5[row,:])))\n",
    "\n",
    "# Normalize distances \n",
    "max_distance = max(max(match_distance5), max(nonmatch_distance5))\n",
    "min_distance = 0 \n",
    "nonmatch_distance5 = [1-((x-min_distance)/(max_distance-min_distance)) \n",
    "                      for x in nonmatch_distance5]\n",
    "match_distance5 = [1-((x-min_distance)/(max_distance-min_distance)) \n",
    "                   for x in match_distance5]\n",
    "\n",
    "matches['vae_enc_last'] = match_distance5\n",
    "nonmatches['vae_enc_last'] = nonmatch_distance5\n",
    "\n",
    "plt.hist(matches['vae_enc_last'], alpha=.5, bins=20, label='matches', normed=1)\n",
    "plt.hist(nonmatches['vae_enc_last'], alpha=.5, bins=20, label='nonmatches',normed=1)\n",
    "plt.legend(loc='upper left')\n",
    "plt.title('Feedforward VAE Last Name - Encoded Size 16')"
   ]
  },
  {
   "cell_type": "code",
   "execution_count": null,
   "metadata": {},
   "outputs": [],
   "source": [
    "list_nonmatch_binary = [i.reshape(-1) for i in np.vsplit(lastname_nonmatchA_binary, len(lastname_nonmatchA_binary))]\n",
    "list_nonmatch_binary"
   ]
  },
  {
   "cell_type": "code",
   "execution_count": null,
   "metadata": {},
   "outputs": [],
   "source": [
    "n,b,p = plt.hist(matches['vae_enc_last'], alpha=.5, bins=20, label='matches')\n",
    "nn,nb,npatches = plt.hist(nonmatches['vae_enc_last'], alpha=.5, bins=20, label='nonmatches')\n",
    "\n",
    "n = n/len(matches)\n",
    "nn = nn/len(nonmatches)\n",
    "\n",
    "vae_enc5_overlap = 0 \n",
    "for i, e in enumerate(n): \n",
    "    vae_enc5_overlap += min(e, nn[i])  \n",
    "print(vae_enc5_overlap)"
   ]
  },
  {
   "cell_type": "markdown",
   "metadata": {},
   "source": [
    "# Difference in Trained Embeddings"
   ]
  },
  {
   "cell_type": "markdown",
   "metadata": {},
   "source": [
    "Train Embeddings "
   ]
  },
  {
   "cell_type": "code",
   "execution_count": null,
   "metadata": {},
   "outputs": [],
   "source": [
    "# Get int corpus of shingles using the nonmatches 1915 last names \n",
    "last_shingle_corpus = [utils.embed_consecutive_shingles(name, max_length=10) \n",
    "                 for name in nonmatches['lname1915']]\n",
    "last_shingle_corpus = [item[0][:item[1]] for item in last_shingle_corpus]\n",
    "\n",
    "# Shingle embedding \n",
    "last_shingle_model = Word2Vec(last_shingle_corpus, min_count=1, window=2, sg=0, size=150, workers=4)\n",
    "last_shingle_model.train(last_shingle_corpus, total_examples=len(last_shingle_corpus), epochs=50)"
   ]
  },
  {
   "cell_type": "code",
   "execution_count": null,
   "metadata": {},
   "outputs": [],
   "source": [
    "last_shingle_model.wv.most_similar('es')"
   ]
  },
  {
   "cell_type": "code",
   "execution_count": null,
   "metadata": {},
   "outputs": [],
   "source": [
    "last_shingle_model.wv.most_similar('ou')"
   ]
  },
  {
   "cell_type": "code",
   "execution_count": null,
   "metadata": {},
   "outputs": [],
   "source": [
    "# Get int corpus of shingles using the nonmatches 1915 first names \n",
    "first_shingle_corpus = [utils.embed_consecutive_shingles(name, max_length=10) \n",
    "                 for name in nonmatches['fname1915']]\n",
    "first_shingle_corpus = [item[0][:item[1]] for item in first_shingle_corpus]\n",
    "\n",
    "# Shingle embedding \n",
    "first_shingle_model = Word2Vec(first_shingle_corpus, min_count=1, window=2, sg=0, size=150, workers=4)\n",
    "first_shingle_model.train(first_shingle_corpus, total_examples=len(first_shingle_corpus), epochs=50)"
   ]
  },
  {
   "cell_type": "code",
   "execution_count": null,
   "metadata": {},
   "outputs": [],
   "source": [
    "first_shingle_model.wv.most_similar('es')"
   ]
  },
  {
   "cell_type": "code",
   "execution_count": null,
   "metadata": {},
   "outputs": [],
   "source": [
    "# Letter embedding using last names \n",
    "last_letter_corpus = [list(name) for name in nonmatches['lname1915']]\n",
    "\n",
    "last_letter_model = Word2Vec(last_letter_corpus, min_count=1, window=3, sg=1, size=50, workers=4)\n",
    "last_letter_model.train(last_letter_corpus, total_examples=len(last_letter_corpus), epochs=20)\n",
    "\n",
    "last_letter_model.wv.most_similar('a')"
   ]
  },
  {
   "cell_type": "code",
   "execution_count": null,
   "metadata": {},
   "outputs": [],
   "source": [
    "# Letter embedding using first names \n",
    "first_letter_corpus = [list(name) for name in nonmatches['fname1915']]\n",
    "\n",
    "first_letter_model = Word2Vec(first_letter_corpus, min_count=1, window=2, sg=0, size=50, workers=4)\n",
    "first_letter_model.train(first_letter_corpus, total_examples=len(first_letter_corpus), epochs=20)\n",
    "\n",
    "first_letter_model.wv.most_similar('a')"
   ]
  },
  {
   "cell_type": "code",
   "execution_count": null,
   "metadata": {
    "collapsed": true
   },
   "outputs": [],
   "source": [
    "def avg_similarity(A, B, model):\n",
    "    max_length = max(len(A), len(B))\n",
    "    min_length = min(len(A), len(B))\n",
    "    similarities = [] \n",
    "    for i in range(min_length):\n",
    "        try:\n",
    "            similarities.append(model.wv.similarity(A[i], B[i]))\n",
    "        except KeyError:\n",
    "            similarities.append(0.0)\n",
    "    similarities.extend([0.5]*(max_length-min_length))\n",
    "    return min(max(0, np.mean(similarities)),1.0)"
   ]
  },
  {
   "cell_type": "code",
   "execution_count": null,
   "metadata": {
    "collapsed": true
   },
   "outputs": [],
   "source": [
    "# Pad nameA and nameB to max(len(A), len(B))\n",
    "# Embed each shingle \n",
    "# Take average similarity\n",
    "\n",
    "# Shingles - last names \n",
    "nonmatch_corpusA = [utils.embed_consecutive_shingles(name, max_length=10) \n",
    "                 for name in nonmatches['lname1915']]\n",
    "nonmatch_corpusA = [item[0][:item[1]] for item in nonmatch_corpusA]\n",
    "nonmatch_corpusB = [utils.embed_consecutive_shingles(name, max_length=10) \n",
    "                 for name in nonmatches['lname1940']]\n",
    "nonmatch_corpusB = [item[0][:item[1]] for item in nonmatch_corpusB]\n",
    "nonmatch_similarities = [] \n",
    "for i,name in enumerate(nonmatch_corpusA):\n",
    "      nonmatch_similarities.append(avg_similarity(name, nonmatch_corpusB[i], last_shingle_model))\n",
    "nonmatches['shingle_similarity_last'] = nonmatch_similarities\n",
    "\n",
    "\n",
    "match_corpusA = [utils.embed_consecutive_shingles(name, max_length=10) \n",
    "                 for name in matches['lname1915']]\n",
    "match_corpusA = [item[0][:item[1]] for item in match_corpusA]\n",
    "match_corpusB = [utils.embed_consecutive_shingles(name, max_length=10) \n",
    "                 for name in matches['lname1940']]\n",
    "match_corpusB = [item[0][:item[1]] for item in match_corpusB]\n",
    "\n",
    "match_similarities = [] \n",
    "for i,name in enumerate(match_corpusA):\n",
    "      match_similarities.append(avg_similarity(name, match_corpusB[i], last_shingle_model))\n",
    "matches['shingle_similarity_last'] = match_similarities\n",
    "\n",
    "\n",
    "# First names \n",
    "nonmatch_corpusA = [utils.embed_consecutive_shingles(name, max_length=10) \n",
    "                 for name in nonmatches['fname1915']]\n",
    "nonmatch_corpusA = [item[0][:item[1]] for item in nonmatch_corpusA]\n",
    "nonmatch_corpusB = [utils.embed_consecutive_shingles(name, max_length=10) \n",
    "                 for name in nonmatches['fname1940']]\n",
    "nonmatch_corpusB = [item[0][:item[1]] for item in nonmatch_corpusB]\n",
    "nonmatch_similarities = [] \n",
    "for i,name in enumerate(nonmatch_corpusA):\n",
    "      nonmatch_similarities.append(avg_similarity(name, nonmatch_corpusB[i], first_shingle_model))\n",
    "nonmatches['shingle_similarity_first'] = nonmatch_similarities\n",
    "\n",
    "# Shingles - first name \n",
    "match_corpusA = [utils.embed_consecutive_shingles(name, max_length=10) \n",
    "                 for name in matches['fname1915']]\n",
    "match_corpusA = [item[0][:item[1]] for item in match_corpusA]\n",
    "match_corpusB = [utils.embed_consecutive_shingles(name, max_length=10) \n",
    "                 for name in matches['fname1940']]\n",
    "match_corpusB = [item[0][:item[1]] for item in match_corpusB]\n",
    "\n",
    "match_similarities = [] \n",
    "for i,name in enumerate(match_corpusA):\n",
    "      match_similarities.append(avg_similarity(name, match_corpusB[i], first_shingle_model))\n",
    "matches['shingle_similarity_first'] = match_similarities"
   ]
  },
  {
   "cell_type": "code",
   "execution_count": null,
   "metadata": {},
   "outputs": [],
   "source": [
    "plt.hist(matches['shingle_similarity_last'], alpha=.5, bins=20, label='matches', normed=1)\n",
    "plt.hist(nonmatches['shingle_similarity_last'], alpha=.5, bins=20, label='nonmatches',normed=1)\n",
    "plt.legend(loc='upper left')\n",
    "plt.title('Shingle Similiarity Last Name')"
   ]
  },
  {
   "cell_type": "code",
   "execution_count": null,
   "metadata": {},
   "outputs": [],
   "source": [
    "plt.hist(matches['shingle_similarity_first'], alpha=.5, bins=20, label='matches', normed=1)\n",
    "plt.hist(nonmatches['shingle_similarity_first'], alpha=.5, bins=20, label='nonmatches',normed=1)\n",
    "plt.legend(loc='upper left')\n",
    "plt.title('Shingle Similiarity First Name')"
   ]
  },
  {
   "cell_type": "code",
   "execution_count": null,
   "metadata": {
    "collapsed": true
   },
   "outputs": [],
   "source": [
    "# Letter embedding\n",
    "\n",
    "# Last names \n",
    "nonmatch_corpusA = [list(name) for name in nonmatches['lname1915']]\n",
    "nonmatch_corpusB = [list(name) for name in nonmatches['lname1940']]\n",
    "\n",
    "nonmatch_letter_similarities = [] \n",
    "for i,name in enumerate(nonmatch_corpusA):\n",
    "      nonmatch_letter_similarities.append(avg_similarity(name, nonmatch_corpusB[i], last_letter_model))\n",
    "nonmatches['letter_similarity_last'] = nonmatch_letter_similarities\n",
    "\n",
    "match_corpusA = [list(name) for name in matches['lname1915']]\n",
    "match_corpusB = [list(name) for name in matches['lname1940']]\n",
    "\n",
    "match_letter_similarities = [] \n",
    "for i,name in enumerate(match_corpusA):\n",
    "      match_letter_similarities.append(avg_similarity(name, match_corpusB[i], last_letter_model))\n",
    "matches['letter_similarity_last'] = match_letter_similarities\n",
    "\n",
    "# Letter embedding - first name \n",
    "nonmatch_corpusA = [list(name) for name in nonmatches['fname1915']]\n",
    "nonmatch_corpusB = [list(name) for name in nonmatches['fname1940']]\n",
    "\n",
    "nonmatch_letter_similarities = [] \n",
    "for i,name in enumerate(nonmatch_corpusA):\n",
    "      nonmatch_letter_similarities.append(avg_similarity(name, nonmatch_corpusB[i], first_letter_model))\n",
    "nonmatches['letter_similarity_first'] = nonmatch_letter_similarities\n",
    "\n",
    "match_corpusA = [list(name) for name in matches['fname1915']]\n",
    "match_corpusB = [list(name) for name in matches['fname1940']]\n",
    "\n",
    "match_letter_similarities = [] \n",
    "for i,name in enumerate(match_corpusA):\n",
    "      match_letter_similarities.append(avg_similarity(name, match_corpusB[i], first_letter_model))\n",
    "matches['letter_similarity_first'] = match_letter_similarities"
   ]
  },
  {
   "cell_type": "markdown",
   "metadata": {},
   "source": [
    "# ROC using Full Name"
   ]
  },
  {
   "cell_type": "code",
   "execution_count": null,
   "metadata": {},
   "outputs": [],
   "source": [
    "# Combine matches and nonmatches into one dataframe \n",
    "matches['match'] = 1 \n",
    "nonmatches['match'] = 0 \n",
    "\n",
    "links = pd.concat([matches, nonmatches])\n",
    "links.info()"
   ]
  },
  {
   "cell_type": "code",
   "execution_count": null,
   "metadata": {},
   "outputs": [],
   "source": [
    "links[['match', 'fname1915', 'fname1940', 'first-jaro-winkler', \n",
    "       'letter_similarity_first', 'shingle_similarity_first']].head(3)"
   ]
  },
  {
   "cell_type": "code",
   "execution_count": null,
   "metadata": {},
   "outputs": [],
   "source": [
    "links[['match', 'fname1915', 'fname1940', 'first-jaro-winkler', \n",
    "       'letter_similarity_first', 'shingle_similarity_first']].tail(3)"
   ]
  },
  {
   "cell_type": "code",
   "execution_count": null,
   "metadata": {},
   "outputs": [],
   "source": [
    "links[['match', 'lname1915', 'lname1940', 'last-jaro-winkler', \n",
    "       'letter_similarity_last', 'shingle_similarity_last']].head(3)"
   ]
  },
  {
   "cell_type": "code",
   "execution_count": null,
   "metadata": {},
   "outputs": [],
   "source": [
    "links[['match', 'lname1915', 'lname1940', 'last-jaro-winkler', \n",
    "       'letter_similarity_last', 'shingle_similarity_last']].tail(3)"
   ]
  },
  {
   "cell_type": "code",
   "execution_count": null,
   "metadata": {
    "collapsed": true
   },
   "outputs": [],
   "source": [
    "# ROC curve \n",
    "# jw_fpr, jw_tpr, threshold = sklearn.metrics.roc_curve(links['match'], links['full-jaro-winkler'])\n",
    "# jw_roc_auc = sklearn.metrics.auc(jw_fpr, jw_tpr)\n",
    "\n",
    "# cnn_fpr, cnn_tpr, threshold = sklearn.metrics.roc_curve(links['match'], links['cnn_encoded1'])\n",
    "# cnn_roc_auc = sklearn.metrics.auc(cnn_fpr, cnn_tpr)\n",
    "\n",
    "# plt.title('Full Name ROC')\n",
    "# plt.plot(jw_fpr, jw_tpr, 'b', label = 'Jaro Winkler Full AUC = {:2f}'.format(jw_roc_auc))\n",
    "# plt.plot(cnn_fpr, cnn_tpr, 'black', label = 'CNN AUC = {:2f}'.format(cnn_roc_auc)) \n",
    "\n",
    "# plt.legend(loc = 'lower right')\n",
    "# plt.plot([0, 1], [0, 1],'r--')\n",
    "# plt.xlim([0, 1])\n",
    "# plt.ylim([0, 1])\n",
    "# plt.ylabel('True Positive Rate')\n",
    "# plt.xlabel('False Positive Rate')\n",
    "# plt.show()"
   ]
  },
  {
   "cell_type": "code",
   "execution_count": null,
   "metadata": {},
   "outputs": [],
   "source": [
    "# First name \n",
    "jw_first_fpr, jw_first_tpr, jw_first_threshold = sklearn.metrics.roc_curve(links['match'], \n",
    "                                                                           links['first-jaro-winkler'])\n",
    "jw_first_roc_auc = sklearn.metrics.auc(jw_first_fpr, jw_first_tpr)\n",
    "\n",
    "first_letter_fpr, first_letter_tpr, first_letter_threshold = sklearn.metrics.roc_curve(links['match'], \n",
    "                                                                                       links['letter_similarity_first'])\n",
    "first_letter_roc_auc = sklearn.metrics.auc(first_letter_fpr, first_letter_tpr) \n",
    "\n",
    "first_shingle_fpr, first_shingle_tpr, first_shingle_threshold = sklearn.metrics.roc_curve(links['match'], \n",
    "                                                                                       links['shingle_similarity_first'])\n",
    "first_shingle_roc_auc = sklearn.metrics.auc(first_shingle_fpr, first_shingle_tpr) \n",
    "\n",
    "# Max JW + Shingle \n",
    "links['combined_letter_jw_first'] = links[['first-jaro-winkler', 'letter_similarity_first']].max(axis=1)\n",
    "combined_first_letter_fpr, combined_first_letter_tpr, combined_first_letter_threshold = sklearn.metrics.roc_curve(links['match'], \n",
    "                                                                                       links['combined_letter_jw_first'])\n",
    "combined_first_letter_roc_auc = sklearn.metrics.auc(combined_first_letter_fpr, combined_first_letter_tpr) \n",
    "\n",
    "# Max JW + Letter \n",
    "links['combined_shingle_jw_first'] = links[['first-jaro-winkler', 'shingle_similarity_first']].max(axis=1)\n",
    "combined_first_shingle_fpr, combined_first_shingle_tpr, combined_first_shingle_threshold = sklearn.metrics.roc_curve(links['match'], \n",
    "                                                                                       links['combined_shingle_jw_first'])\n",
    "combined_first_shingle_roc_auc = sklearn.metrics.auc(combined_first_shingle_fpr, combined_first_shingle_tpr)\n",
    "\n",
    "# Max Shingle + Letter \n",
    "links['combined_shingle_letter_first'] = links[['letter_similarity_first', 'shingle_similarity_first']].max(axis=1)\n",
    "combined_shingle_letter_fpr, combined_shingle_letter_tpr, combined_shingle_letter_threshold = sklearn.metrics.roc_curve(links['match'], \n",
    "                                                                                       links['combined_shingle_letter_first'])\n",
    "combined_shingle_letter_auc = sklearn.metrics.auc(combined_shingle_letter_fpr, combined_shingle_letter_tpr) \n",
    "\n",
    "\n",
    "plt.title('First Name ROC')\n",
    "\n",
    "plt.plot(combined_first_letter_fpr, combined_first_letter_tpr, 'blue', linestyle='dashed',\n",
    "         label = 'Letter Embed + JW - First Name AUC = {:2f}'.format(combined_first_letter_roc_auc))\n",
    "\n",
    "plt.plot(combined_first_shingle_fpr, combined_first_shingle_tpr, 'green', linestyle='dashed',\n",
    "         label = 'Shingle Embed + JW - First Name AUC = {:2f}'.format(combined_first_shingle_roc_auc))\n",
    "\n",
    "plt.plot(combined_shingle_letter_fpr, combined_shingle_letter_tpr, 'purple',\n",
    "         label = 'Shingle Embed + JW - First Name AUC = {:2f}'.format(combined_shingle_letter_auc))\n",
    "\n",
    "plt.plot(jw_first_fpr, jw_first_tpr, 'black',\n",
    "         label = 'Jaro Winkler - First Name AUC = {:2f}'.format(jw_first_roc_auc))\n",
    "\n",
    "plt.plot(first_shingle_fpr, first_shingle_tpr, 'green',\n",
    "         label = 'Shingle Embed - First Name AUC = {:2f}'.format(first_shingle_roc_auc))\n",
    "\n",
    "plt.plot(first_letter_fpr, first_letter_tpr, 'blue', \n",
    "         label = 'Letter Embed - First Name AUC = {:2f}'.format(first_letter_roc_auc))\n",
    "\n",
    "plt.legend(loc = 'lower right')\n",
    "plt.plot([0, 1], [0, 1],'r--')\n",
    "plt.xlim([0, 1])\n",
    "plt.ylim([0, 1])\n",
    "plt.ylabel('True Positive Rate')\n",
    "plt.xlabel('False Positive Rate')\n",
    "plt.show()"
   ]
  },
  {
   "cell_type": "code",
   "execution_count": null,
   "metadata": {},
   "outputs": [],
   "source": [
    "# Last Name \n",
    "jw_last_fpr, jw_last_tpr, jw_last_threshold = sklearn.metrics.roc_curve(links['match'], \n",
    "                                                                        links['last-jaro-winkler'], \n",
    "                                                                       pos_label=1)\n",
    "jw_last_auc = sklearn.metrics.auc(jw_last_fpr, jw_last_tpr)\n",
    "\n",
    "vae_fpr, vae_tpr, vae_threshold = sklearn.metrics.roc_curve(links['match'], links['vae_enc_last'])\n",
    "vae_roc_auc = sklearn.metrics.auc(vae_fpr, vae_tpr)\n",
    "\n",
    "shingle_fpr, shingle_tpr, shingle_threshold = sklearn.metrics.roc_curve(links['match'], \n",
    "                                                                        links['shingle_similarity_last'])\n",
    "shingle_roc_auc = sklearn.metrics.auc(shingle_fpr, shingle_tpr) \n",
    "\n",
    "letter_fpr, letter_tpr, letter_threshold = sklearn.metrics.roc_curve(links['match'], \n",
    "                                                                     links['letter_similarity_last'])\n",
    "letter_roc_auc = sklearn.metrics.auc(letter_fpr, letter_tpr) \n",
    "\n",
    "# Take max of JW and VAE together \n",
    "links['combined'] = links[['last-jaro-winkler', 'vae_enc_last']].max(axis=1)\n",
    "combined_fpr, combined_tpr, combined_threshold = sklearn.metrics.roc_curve(links['match'], links['combined'])\n",
    "combined_roc_auc = sklearn.metrics.auc(combined_fpr, combined_tpr)\n",
    "\n",
    "# Take max of Letter and Jaro Winkler\n",
    "links['embed_combined'] = links[['letter_similarity_last','last-jaro-winkler']].max(axis=1)\n",
    "embed_combined_fpr, embed_combined_tpr, embed_combined_threshold = sklearn.metrics.roc_curve(links['match'], links['embed_combined'])\n",
    "embed_combined_roc_auc = sklearn.metrics.auc(embed_combined_fpr, embed_combined_tpr)\n",
    "\n",
    "# Take max of Letter and Jaro Winkler\n",
    "links['shingle_combined'] = links[['shingle_similarity_last','last-jaro-winkler']].max(axis=1)\n",
    "shingle_combined_fpr, shingle_combined_tpr, shingle_combined_threshold = sklearn.metrics.roc_curve(links['match'],\n",
    "                                                                                                   links['shingle_combined'])\n",
    "shingle_combined_roc_auc = sklearn.metrics.auc(shingle_combined_fpr, shingle_combined_tpr)\n",
    "\n",
    "plt.title('Last Name ROC')\n",
    "\n",
    "plt.plot(embed_combined_fpr, embed_combined_tpr, 'g', linestyle='dashed',\n",
    "         label = 'Embed Letter + JW - Last Name AUC = {:2f}'.format(embed_combined_roc_auc))\n",
    "\n",
    "plt.plot(shingle_combined_fpr, shingle_combined_tpr, 'orange', linestyle='dashed',\n",
    "         label = 'Shingle + JW - Last Name AUC = {:2f}'.format(shingle_combined_roc_auc))\n",
    "\n",
    "plt.plot(jw_last_fpr, jw_last_tpr, 'black', \n",
    "         label = 'Jaro Winkler - Last Name AUC = {:2f}'.format(jw_last_auc))\n",
    "\n",
    "plt.plot(combined_fpr, combined_tpr, 'b', linestyle='dashed',\n",
    "         label = 'VAE 16 + JW - Last Name AUC = {:2f}'.format(combined_roc_auc))\n",
    "\n",
    "plt.plot(letter_fpr, letter_tpr, 'g', \n",
    "         label = 'Letter - Last Name AUC = {:2f}'.format(letter_roc_auc))\n",
    "\n",
    "plt.plot(shingle_fpr, shingle_tpr, 'orange', \n",
    "         label = 'Shingle - Last Name AUC = {:2f}'.format(shingle_roc_auc))\n",
    "\n",
    "plt.plot(vae_fpr, vae_tpr, 'blue', \n",
    "         label = 'VAE 16 - Last Name AUC = {:2f}'.format(vae5_roc_auc))\n",
    "\n",
    "plt.legend(loc = 'lower right')\n",
    "plt.plot([0, 1], [0, 1],'r--')\n",
    "plt.xlim([0, 1])\n",
    "plt.ylim([0, 1])\n",
    "plt.ylabel('True Positive Rate')\n",
    "plt.xlabel('False Positive Rate')\n",
    "plt.show()"
   ]
  },
  {
   "cell_type": "markdown",
   "metadata": {},
   "source": [
    "# Estimated Links Based on a Single Column"
   ]
  },
  {
   "cell_type": "code",
   "execution_count": null,
   "metadata": {
    "collapsed": true
   },
   "outputs": [],
   "source": [
    "def optimal_threshold(col):\n",
    "    fpr, tpr, threshold = sklearn.metrics.roc_curve(links['match'], links[col]) \n",
    "    distances = np.zeros(len(fpr))\n",
    "    # Calculate distance to (0, 1)\n",
    "    for i, j in enumerate(fpr):\n",
    "        distances[i] += (j-0)**2 + (1 - tpr[i])**2\n",
    "    return threshold[np.argmin(distances)]"
   ]
  },
  {
   "cell_type": "code",
   "execution_count": null,
   "metadata": {
    "collapsed": true
   },
   "outputs": [],
   "source": [
    "def linkage_results(col): \n",
    "    threshold = optimal_threshold(col)\n",
    "    pred = (links[col] > threshold).astype(int) \n",
    "    print(col)\n",
    "    print('Accuracy:', sklearn.metrics.accuracy_score(links['match'], pred))\n",
    "    print('F1:', sklearn.metrics.f1_score(links['match'], pred))\n",
    "    print('Precision:', sklearn.metrics.precision_score(links['match'], pred))\n",
    "    print('Recall:', sklearn.metrics.recall_score(links['match'], pred))"
   ]
  },
  {
   "cell_type": "code",
   "execution_count": null,
   "metadata": {},
   "outputs": [],
   "source": [
    "for col in ['first-jaro-winkler', 'last-jaro-winkler', 'vae_enc_last', \n",
    "            'letter_similarity_last', 'shingle_similarity_last', \n",
    "            'shingle_combined', 'embed_combined']:\n",
    "    linkage_results(col)\n",
    "    print('\\n')"
   ]
  },
  {
   "cell_type": "markdown",
   "metadata": {},
   "source": [
    "# Fellegi-Sunter"
   ]
  },
  {
   "cell_type": "code",
   "execution_count": null,
   "metadata": {
    "collapsed": true
   },
   "outputs": [],
   "source": [
    "import recordlinkage as rl"
   ]
  },
  {
   "cell_type": "code",
   "execution_count": null,
   "metadata": {
    "collapsed": true
   },
   "outputs": [],
   "source": [
    "matched_links = links[links['match']==1][['uid1915', 'hhid']]\n",
    "matched_links.set_index(['uid1915', 'hhid'], inplace=True)"
   ]
  },
  {
   "cell_type": "code",
   "execution_count": null,
   "metadata": {},
   "outputs": [],
   "source": [
    "features = links[['uid1915', 'hhid', \n",
    "                  'last-jaro-winkler','first-jaro-winkler', 'full-jaro-winkler']]\n",
    "features['last-jaro-winkler'] = (features['last-jaro-winkler'] > optimal_threshold('last-jaro-winkler')).astype(int)\n",
    "features['first-jaro-winkler'] = (features['first-jaro-winkler'] > optimal_threshold('first-jaro-winkler')).astype(int)\n",
    "features['full-jaro-winkler'] = (features['full-jaro-winkler'] > optimal_threshold('full-jaro-winkler')).astype(int)\n",
    "features.set_index(['uid1915', 'hhid'], inplace=True)\n",
    "\n",
    "ecm = rl.ECMClassifier()\n",
    "result_ecm = ecm.learn(features)\n",
    "print(len(result_ecm))\n",
    "\n",
    "conf_ecm = rl.confusion_matrix(matched_links, result_ecm, len(features))\n",
    "print('F1', rl.fscore(conf_ecm)) \n",
    "print('Accuracy', rl.accuracy(conf_ecm)) \n",
    "print('Precision', rl.precision(conf_ecm)) \n",
    "print('Recall', rl.recall(conf_ecm)) "
   ]
  },
  {
   "cell_type": "code",
   "execution_count": null,
   "metadata": {},
   "outputs": [],
   "source": [
    "features = links[['uid1915', 'hhid', \n",
    "                  'last-jaro-winkler',\n",
    "                  'shingle_similarity_last', 'shingle_similarity_first']]\n",
    "features.set_index(['uid1915', 'hhid'], inplace=True)\n",
    "\n",
    "features['last-jaro-winkler'] = (features['last-jaro-winkler'] > optimal_threshold('last-jaro-winkler')).astype(int)\n",
    "features['shingle_similarity_last'] = (features['shingle_similarity_last'] > optimal_threshold('shingle_similarity_last')).astype(int)\n",
    "features['shingle_similarity_first'] = (features['shingle_similarity_first'] > optimal_threshold('shingle_similarity_first')).astype(int)\n",
    "\n",
    "\n",
    "ecm = rl.ECMClassifier()\n",
    "result_ecm = ecm.learn(features)\n",
    "print(len(result_ecm))\n",
    "\n",
    "conf_ecm = rl.confusion_matrix(matched_links, result_ecm, len(features))\n",
    "print('F1', rl.fscore(conf_ecm)) \n",
    "print('Accuracy', rl.accuracy(conf_ecm)) \n",
    "print('Precision', rl.precision(conf_ecm)) \n",
    "print('Recall', rl.recall(conf_ecm)) "
   ]
  },
  {
   "cell_type": "code",
   "execution_count": null,
   "metadata": {},
   "outputs": [],
   "source": [
    "features = links[['uid1915', 'hhid', \n",
    "                  'last-jaro-winkler', \n",
    "                  'letter_similarity_last', 'letter_similarity_first']]\n",
    "features.set_index(['uid1915', 'hhid'], inplace=True)\n",
    "\n",
    "features['last-jaro-winkler'] = (features['last-jaro-winkler'] > optimal_threshold('last-jaro-winkler')).astype(int)\n",
    "features['letter_similarity_last'] = (features['letter_similarity_last'] > optimal_threshold('letter_similarity_last')).astype(int)\n",
    "features['letter_similarity_first'] = (features['letter_similarity_first'] > optimal_threshold('letter_similarity_first')).astype(int)\n",
    "\n",
    "ecm = rl.ECMClassifier()\n",
    "result_ecm = ecm.learn(features)\n",
    "print(len(result_ecm))\n",
    "\n",
    "conf_ecm = rl.confusion_matrix(matched_links, result_ecm, len(features))\n",
    "print('F1', rl.fscore(conf_ecm)) \n",
    "print('Accuracy', rl.accuracy(conf_ecm)) \n",
    "print('Precision', rl.precision(conf_ecm)) \n",
    "print('Recall', rl.recall(conf_ecm)) "
   ]
  },
  {
   "cell_type": "code",
   "execution_count": null,
   "metadata": {},
   "outputs": [],
   "source": [
    "features = links[['uid1915', 'hhid', \n",
    "                  'last-jaro-winkler', 'first-jaro-winkler',\n",
    "                  'shingle_similarity_last', 'shingle_similarity_first', \n",
    "                  'letter_similarity_last', 'letter_similarity_first']]\n",
    "features.set_index(['uid1915', 'hhid'], inplace=True)\n",
    "\n",
    "features['last-jaro-winkler'] = (features['last-jaro-winkler'] > optimal_threshold('last-jaro-winkler')).astype(int)\n",
    "features['first-jaro-winkler'] = (features['first-jaro-winkler'] > optimal_threshold('first-jaro-winkler')).astype(int)\n",
    "features['letter_similarity_last'] = (features['letter_similarity_last'] > optimal_threshold('letter_similarity_last')).astype(int)\n",
    "features['letter_similarity_first'] = (features['letter_similarity_first'] > optimal_threshold('letter_similarity_first')).astype(int)\n",
    "features['shingle_similarity_last'] = (features['shingle_similarity_last'] > optimal_threshold('shingle_similarity_last')).astype(int)\n",
    "features['shingle_similarity_first'] = (features['shingle_similarity_first'] > optimal_threshold('shingle_similarity_first')).astype(int)\n",
    "\n",
    "ecm = rl.ECMClassifier()\n",
    "result_ecm = ecm.learn(features)\n",
    "print(len(result_ecm))\n",
    "\n",
    "conf_ecm = rl.confusion_matrix(matched_links, result_ecm, len(features))\n",
    "print('F1', rl.fscore(conf_ecm)) \n",
    "print('Accuracy', rl.accuracy(conf_ecm)) \n",
    "print('Precision', rl.precision(conf_ecm)) \n",
    "print('Recall', rl.recall(conf_ecm)) "
   ]
  },
  {
   "cell_type": "code",
   "execution_count": null,
   "metadata": {},
   "outputs": [],
   "source": [
    "features = links[['uid1915', 'hhid',\n",
    "                  'last-jaro-winkler', 'first-jaro-winkler',\n",
    "                  'shingle_similarity_last', 'shingle_similarity_first', \n",
    "                  'letter_similarity_last', 'letter_similarity_first',\n",
    "                  'vae_enc_last']]\n",
    "features.set_index(['uid1915', 'hhid'], inplace=True)\n",
    "\n",
    "features['last-jaro-winkler'] = (features['last-jaro-winkler'] > optimal_threshold('last-jaro-winkler')).astype(int)\n",
    "features['first-jaro-winkler'] = (features['first-jaro-winkler'] > optimal_threshold('first-jaro-winkler')).astype(int)\n",
    "features['letter_similarity_last'] = (features['letter_similarity_last'] > optimal_threshold('letter_similarity_last')).astype(int)\n",
    "features['letter_similarity_first'] = (features['letter_similarity_first'] > optimal_threshold('letter_similarity_first')).astype(int)\n",
    "features['shingle_similarity_last'] = (features['shingle_similarity_last'] > optimal_threshold('shingle_similarity_last')).astype(int)\n",
    "features['shingle_similarity_first'] = (features['shingle_similarity_first'] > optimal_threshold('shingle_similarity_first')).astype(int)\n",
    "features['vae_enc_last'] = (features['vae_enc_last'] > optimal_threshold('vae_enc_last')).astype(int)\n",
    "\n",
    "ecm = rl.ECMClassifier()\n",
    "result_ecm = ecm.learn(features)\n",
    "print(len(result_ecm))\n",
    "\n",
    "conf_ecm = rl.confusion_matrix(matched_links, result_ecm, len(features))\n",
    "print('F1', rl.fscore(conf_ecm)) \n",
    "print('Accuracy', rl.accuracy(conf_ecm)) \n",
    "print('Precision', rl.precision(conf_ecm)) \n",
    "print('Recall', rl.recall(conf_ecm)) "
   ]
  }
 ],
 "metadata": {
  "kernelspec": {
   "display_name": "Python 3",
   "language": "python",
   "name": "python3"
  },
  "language_info": {
   "codemirror_mode": {
    "name": "ipython",
    "version": 3
   },
   "file_extension": ".py",
   "mimetype": "text/x-python",
   "name": "python",
   "nbconvert_exporter": "python",
   "pygments_lexer": "ipython3",
   "version": "3.6.5"
  }
 },
 "nbformat": 4,
 "nbformat_minor": 2
}
